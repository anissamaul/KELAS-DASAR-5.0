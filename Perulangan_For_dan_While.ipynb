{
  "nbformat": 4,
  "nbformat_minor": 0,
  "metadata": {
    "colab": {
      "provenance": []
    },
    "kernelspec": {
      "name": "python3",
      "display_name": "Python 3"
    },
    "language_info": {
      "name": "python"
    }
  },
  "cells": [
    {
      "cell_type": "markdown",
      "metadata": {
        "id": "4-CTDeAVyC80"
      },
      "source": [
        "##**Looping/Perulangan**"
      ]
    },
    {
      "cell_type": "markdown",
      "metadata": {
        "id": "Lojr9gCGyHeh"
      },
      "source": [
        "Python menyediakan dua statement untuk melakukan proses perulangan yaitu for dan while. Diantara kedua statement ini, secara umum for lebih banyak digunakan daripada while."
      ]
    },
    {
      "cell_type": "markdown",
      "metadata": {
        "id": "LbS_5hVbyh-A"
      },
      "source": [
        "###For Loop"
      ]
    },
    {
      "cell_type": "markdown",
      "metadata": {
        "id": "dqa9bHcZymAR"
      },
      "source": [
        "Perulangan `for` digunakan untuk melakukan literasi di dalam `sequence` seperti `list`, `tuple`, `string`, dan `array` atau objek yang dapat diliterasi lainnya.\n",
        "\n",
        "**For Loop Syntax**\n",
        "\n",
        "\n",
        "```\n",
        "for val in sequence :\n",
        "    loop body\n",
        "```\n",
        "\n",
        "**For Loop Flowchart**\n",
        "\n",
        "![forLoop.webp](data:image/webp;base64,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)\n",
        "\n"
      ]
    },
    {
      "cell_type": "markdown",
      "metadata": {
        "id": "EdqM41Cc0FB6"
      },
      "source": [
        "**Example : Python for Loop**"
      ]
    },
    {
      "cell_type": "code",
      "metadata": {
        "id": "E-ECs38L0JeJ",
        "colab": {
          "base_uri": "https://localhost:8080/"
        },
        "outputId": "3b87b13c-ac63-49ef-e115-39814a5d6021"
      },
      "source": [
        "# Program untuk menghitung jumlah semua angka dalam sebuah list\n",
        "L1 = [2, 4, 5, 7, 9]\n",
        "jumlah = 0\n",
        "\n",
        "# iterasi di dalam list\n",
        "for i in L1:\n",
        "  jumlah = jumlah + i\n",
        "\n",
        "print(jumlah)"
      ],
      "execution_count": 1,
      "outputs": [
        {
          "output_type": "stream",
          "name": "stdout",
          "text": [
            "27\n"
          ]
        }
      ]
    },
    {
      "cell_type": "markdown",
      "metadata": {
        "id": "2pjCWY_U0lxJ"
      },
      "source": [
        "###**The range() function**"
      ]
    },
    {
      "cell_type": "code",
      "metadata": {
        "id": "UZ3NUqCz0q4T",
        "colab": {
          "base_uri": "https://localhost:8080/"
        },
        "outputId": "27449851-dcd2-4cc5-fee7-041dd117839a"
      },
      "source": [
        "# Program untuk melakukan iterasi di dalam list melalui indeks\n",
        "minuman = [\"teh\", \"boba\", \"kopi\", \"susu\"]\n",
        "p = len(minuman)\n",
        "\n",
        "# iterasi di dalam list melalui lindeks\n",
        "for i in range(p):\n",
        "    print(minuman[i])"
      ],
      "execution_count": 2,
      "outputs": [
        {
          "output_type": "stream",
          "name": "stdout",
          "text": [
            "teh\n",
            "boba\n",
            "kopi\n",
            "susu\n"
          ]
        }
      ]
    },
    {
      "cell_type": "markdown",
      "metadata": {
        "id": "1B8UxoXB1H4r"
      },
      "source": [
        "###**for loop with else**"
      ]
    },
    {
      "cell_type": "code",
      "metadata": {
        "id": "SvV92dZL1PGQ",
        "colab": {
          "base_uri": "https://localhost:8080/"
        },
        "outputId": "4d0e048c-3b1b-49b3-fd81-898efa014a53"
      },
      "source": [
        "# Contoh for loop menggunakan else\n",
        "for i in range(p):\n",
        "  print(minuman[i])\n",
        "else:\n",
        "  print(\"Elemen sudah habis\")"
      ],
      "execution_count": 3,
      "outputs": [
        {
          "output_type": "stream",
          "name": "stdout",
          "text": [
            "teh\n",
            "boba\n",
            "kopi\n",
            "susu\n",
            "Elemen sudah habis\n"
          ]
        }
      ]
    },
    {
      "cell_type": "markdown",
      "metadata": {
        "id": "wEULL_iCZtmo"
      },
      "source": [
        "###Latihan 1"
      ]
    },
    {
      "cell_type": "markdown",
      "metadata": {
        "id": "_PnfSDJIZwxZ"
      },
      "source": [
        "Diberikan `list_tagihan`. Kamu diminta untuk menghitung jumlah seluruh tagihan!. Gunakan looping `for` untuk menyelesaikan tugas ini! Simpan hasilnya pada variabel `total_tagihan`!\n",
        "\n",
        "\n",
        "```\n",
        "list_tagihan = [50000, 75000, -150000, 125000, 300000, -50000, 200000]\n",
        "```\n",
        "\n"
      ]
    },
    {
      "cell_type": "code",
      "metadata": {
        "id": "cAtqnBAsaZjf",
        "colab": {
          "base_uri": "https://localhost:8080/"
        },
        "outputId": "653eb25d-8507-44f9-97f5-d622bb4cf666"
      },
      "source": [
        "# Tuliskan code kalian\n",
        "\n",
        "list_tagihan = [50000, 75000, -150000, 125000, 300000, -50000, 200000]\n",
        "total_tagihan = 0\n",
        "\n",
        "# iterasi di dalam list\n",
        "for i in list_tagihan:\n",
        "  total_tagihan = total_tagihan + i\n",
        "\n",
        "print(total_tagihan)"
      ],
      "execution_count": 4,
      "outputs": [
        {
          "output_type": "stream",
          "name": "stdout",
          "text": [
            "550000\n"
          ]
        }
      ]
    },
    {
      "cell_type": "markdown",
      "metadata": {
        "id": "FPFuEcAiadhB"
      },
      "source": [
        "##While Loop"
      ]
    },
    {
      "cell_type": "markdown",
      "metadata": {
        "id": "STXimyiya2oD"
      },
      "source": [
        "While loop pada Python digunakan untuk melakukan iterasi pada blok kode selama nilai dari `test expression` adalah `true`.\n",
        "\n",
        "**Syntax of while Loop in Python**\n",
        "\n",
        "\n",
        "```\n",
        "while test_expression :\n",
        "    Body of while\n",
        "```\n",
        "\n",
        "**While Loop Flowchart**\n",
        "\n",
        "![whileLoopFlowchart.webp](data:image/webp;base64,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)\n",
        "\n"
      ]
    },
    {
      "cell_type": "markdown",
      "metadata": {
        "id": "X6U0wOZ0blPI"
      },
      "source": [
        "**Example : Python while Loop**"
      ]
    },
    {
      "cell_type": "code",
      "metadata": {
        "id": "R19osPVYbqBx",
        "colab": {
          "base_uri": "https://localhost:8080/"
        },
        "outputId": "2b79bafb-6f9e-4843-a22d-7831ef42f85d"
      },
      "source": [
        "# Program untuk menjumlahkan semua\n",
        "# bilangan asli hingga suku ke-n\n",
        "# jum = 1+2+3+...+n\n",
        "\n",
        "n = 10\n",
        "jumlah = 0\n",
        "i = 1\n",
        "\n",
        "while i <= n:\n",
        "  jumlah = jumlah + 1\n",
        "  i = i + 1\n",
        "\n",
        "\n",
        "print(jumlah)"
      ],
      "execution_count": 5,
      "outputs": [
        {
          "output_type": "stream",
          "name": "stdout",
          "text": [
            "10\n"
          ]
        }
      ]
    },
    {
      "cell_type": "markdown",
      "metadata": {
        "id": "D33RrucqcCYi"
      },
      "source": [
        "###**While loop with else**"
      ]
    },
    {
      "cell_type": "markdown",
      "metadata": {
        "id": "8AbD7fIRcG1s"
      },
      "source": [
        "Sama dengan `for` loop kita juga dapat mengkombinasikan `while` loop dengan blok `else`.\n",
        "\n",
        "Bagian `else` akan dieksekusi jika nilai pada `test expression` pada `while loop` bernilai `False`. Perhatikan contoh berikut :"
      ]
    },
    {
      "cell_type": "code",
      "metadata": {
        "id": "AcQRv8RycgyY",
        "colab": {
          "base_uri": "https://localhost:8080/"
        },
        "outputId": "b7c2a6b8-47f0-41d8-fdd5-c95ffd8df8e2"
      },
      "source": [
        "jum = 0\n",
        "i = 1\n",
        "while i <= n:\n",
        "  jum = jum + i\n",
        "  i = i + 1\n",
        "else:\n",
        "  print(jum) # dieksukusi diluar looping"
      ],
      "execution_count": 6,
      "outputs": [
        {
          "output_type": "stream",
          "name": "stdout",
          "text": [
            "55\n"
          ]
        }
      ]
    },
    {
      "cell_type": "markdown",
      "metadata": {
        "id": "OEXY6_qpcyNc"
      },
      "source": [
        "###Latihan 2"
      ]
    },
    {
      "cell_type": "markdown",
      "metadata": {
        "id": "uH1d-Wrmc0zw"
      },
      "source": [
        "Diberikan list `tagihan` hitunglah `total_tagihan` menggunakan `while loop`.\n",
        "\n",
        "\n",
        "```\n",
        "tagihan = [50000, 75000, 125000, 300000, 200000]\n",
        "```\n",
        "\n"
      ]
    },
    {
      "cell_type": "code",
      "metadata": {
        "id": "EJ1EiFASdHZT",
        "colab": {
          "base_uri": "https://localhost:8080/"
        },
        "outputId": "466a2eae-adfe-4dbb-ed92-8ddfb292e8db"
      },
      "source": [
        "# Tuliskan kodemu\n",
        "\n",
        "tagihan = [50000, 75000, 125000, 300000, 200000]\n",
        "\n",
        "i = 0\n",
        "jumlah_tagihan = len(tagihan)\n",
        "total_tagihan = 0\n",
        "\n",
        "while i < jumlah_tagihan:\n",
        "  total_tagihan = total_tagihan + tagihan[i]\n",
        "  i = i + 1\n",
        "\n",
        "\n",
        "print(total_tagihan)"
      ],
      "execution_count": 7,
      "outputs": [
        {
          "output_type": "stream",
          "name": "stdout",
          "text": [
            "750000\n"
          ]
        }
      ]
    }
  ]
}