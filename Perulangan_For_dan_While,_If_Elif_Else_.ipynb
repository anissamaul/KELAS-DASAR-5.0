{
  "nbformat": 4,
  "nbformat_minor": 0,
  "metadata": {
    "colab": {
      "provenance": []
    },
    "kernelspec": {
      "name": "python3",
      "display_name": "Python 3"
    },
    "language_info": {
      "name": "python"
    }
  },
  "cells": [
    {
      "cell_type": "markdown",
      "source": [
        "#**Perulangan For dan While**"
      ],
      "metadata": {
        "id": "Mo4kGKtBStsp"
      }
    },
    {
      "cell_type": "markdown",
      "metadata": {
        "id": "4-CTDeAVyC80"
      },
      "source": [
        "##**Looping/Perulangan**"
      ]
    },
    {
      "cell_type": "markdown",
      "metadata": {
        "id": "Lojr9gCGyHeh"
      },
      "source": [
        "Python menyediakan dua statement untuk melakukan proses perulangan yaitu for dan while. Diantara kedua statement ini, secara umum for lebih banyak digunakan daripada while."
      ]
    },
    {
      "cell_type": "markdown",
      "metadata": {
        "id": "LbS_5hVbyh-A"
      },
      "source": [
        "###For Loop"
      ]
    },
    {
      "cell_type": "markdown",
      "metadata": {
        "id": "dqa9bHcZymAR"
      },
      "source": [
        "Perulangan `for` digunakan untuk melakukan literasi di dalam `sequence` seperti `list`, `tuple`, `string`, dan `array` atau objek yang dapat diliterasi lainnya.\n",
        "\n",
        "**For Loop Syntax**\n",
        "\n",
        "\n",
        "```\n",
        "for val in sequence :\n",
        "    loop body\n",
        "```\n",
        "\n",
        "\n",
        "\n"
      ]
    },
    {
      "cell_type": "markdown",
      "source": [
        "**For Loop Flowchart**\n",
        "\n",
        "![forLoop.webp](data:image/webp;base64,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)"
      ],
      "metadata": {
        "id": "JS1iBXMwQtvC"
      }
    },
    {
      "cell_type": "markdown",
      "metadata": {
        "id": "EdqM41Cc0FB6"
      },
      "source": [
        "**Example : Python for Loop**"
      ]
    },
    {
      "cell_type": "code",
      "metadata": {
        "id": "E-ECs38L0JeJ",
        "colab": {
          "base_uri": "https://localhost:8080/"
        },
        "outputId": "34a61189-8b9d-4e41-ca0f-7ba316e4e40e"
      },
      "source": [
        "# Program untuk menghitung jumlah semua angka dalam sebuah list\n",
        "L1 = [2, 4, 5, 7, 9]\n",
        "jumlah = 0\n",
        "\n",
        "# iterasi di dalam list\n",
        "for i in L1:\n",
        "  jumlah = jumlah + i\n",
        "\n",
        "print(jumlah)"
      ],
      "execution_count": 37,
      "outputs": [
        {
          "output_type": "stream",
          "name": "stdout",
          "text": [
            "27\n"
          ]
        }
      ]
    },
    {
      "cell_type": "markdown",
      "metadata": {
        "id": "2pjCWY_U0lxJ"
      },
      "source": [
        "###**The range() function**"
      ]
    },
    {
      "cell_type": "code",
      "metadata": {
        "id": "UZ3NUqCz0q4T",
        "colab": {
          "base_uri": "https://localhost:8080/"
        },
        "outputId": "81009fe0-eee5-44ac-9b2d-acb3eafb9ab9"
      },
      "source": [
        "# Program untuk melakukan iterasi di dalam list melalui indeks\n",
        "minuman = [\"teh\", \"boba\", \"kopi\", \"susu\"]\n",
        "p = len(minuman)\n",
        "\n",
        "# iterasi di dalam list melalui lindeks\n",
        "for i in range(p):\n",
        "    print(minuman[i])"
      ],
      "execution_count": 38,
      "outputs": [
        {
          "output_type": "stream",
          "name": "stdout",
          "text": [
            "teh\n",
            "boba\n",
            "kopi\n",
            "susu\n"
          ]
        }
      ]
    },
    {
      "cell_type": "markdown",
      "metadata": {
        "id": "1B8UxoXB1H4r"
      },
      "source": [
        "###**for loop with else**"
      ]
    },
    {
      "cell_type": "code",
      "metadata": {
        "id": "SvV92dZL1PGQ",
        "colab": {
          "base_uri": "https://localhost:8080/"
        },
        "outputId": "a68dd79c-ea54-4553-d891-547be614496b"
      },
      "source": [
        "# Contoh for loop menggunakan else\n",
        "for i in range(p):\n",
        "  print(minuman[i])\n",
        "else:\n",
        "  print(\"Elemen sudah habis\")"
      ],
      "execution_count": 39,
      "outputs": [
        {
          "output_type": "stream",
          "name": "stdout",
          "text": [
            "teh\n",
            "boba\n",
            "kopi\n",
            "susu\n",
            "Elemen sudah habis\n"
          ]
        }
      ]
    },
    {
      "cell_type": "markdown",
      "metadata": {
        "id": "wEULL_iCZtmo"
      },
      "source": [
        "###Latihan 1"
      ]
    },
    {
      "cell_type": "markdown",
      "metadata": {
        "id": "_PnfSDJIZwxZ"
      },
      "source": [
        "Diberikan `list_tagihan`. Kamu diminta untuk menghitung jumlah seluruh tagihan!. Gunakan looping `for` untuk menyelesaikan tugas ini! Simpan hasilnya pada variabel `total_tagihan`!\n",
        "\n",
        "\n",
        "```\n",
        "list_tagihan = [50000, 75000, -150000, 125000, 300000, -50000, 200000]\n",
        "```\n",
        "\n"
      ]
    },
    {
      "cell_type": "code",
      "metadata": {
        "id": "cAtqnBAsaZjf",
        "colab": {
          "base_uri": "https://localhost:8080/"
        },
        "outputId": "4f61506e-ffa0-4f92-b697-37fd86b3ea5c"
      },
      "source": [
        "# Tuliskan code kalian\n",
        "\n",
        "list_tagihan = [50000, 75000, -150000, 125000, 300000, -50000, 200000]\n",
        "total_tagihan = 0\n",
        "\n",
        "# iterasi di dalam list\n",
        "for i in list_tagihan:\n",
        "  total_tagihan = total_tagihan + i\n",
        "\n",
        "print(total_tagihan)"
      ],
      "execution_count": 40,
      "outputs": [
        {
          "output_type": "stream",
          "name": "stdout",
          "text": [
            "550000\n"
          ]
        }
      ]
    },
    {
      "cell_type": "markdown",
      "metadata": {
        "id": "FPFuEcAiadhB"
      },
      "source": [
        "##While Loop"
      ]
    },
    {
      "cell_type": "markdown",
      "metadata": {
        "id": "STXimyiya2oD"
      },
      "source": [
        "While loop pada Python digunakan untuk melakukan iterasi pada blok kode selama nilai dari `test expression` adalah `true`.\n",
        "\n",
        "**Syntax of while Loop in Python**\n",
        "\n",
        "\n",
        "```\n",
        "while test_expression :\n",
        "    Body of while\n",
        "```\n",
        "\n",
        "\n"
      ]
    },
    {
      "cell_type": "markdown",
      "source": [
        "**While Loop Flowchart**\n",
        "\n",
        "![whileLoopFlowchart.webp](data:image/webp;base64,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)"
      ],
      "metadata": {
        "id": "wNVRUfZkSQID"
      }
    },
    {
      "cell_type": "markdown",
      "metadata": {
        "id": "X6U0wOZ0blPI"
      },
      "source": [
        "**Example : Python while Loop**"
      ]
    },
    {
      "cell_type": "code",
      "metadata": {
        "id": "R19osPVYbqBx",
        "colab": {
          "base_uri": "https://localhost:8080/"
        },
        "outputId": "093cd4be-a13b-4b18-a67a-81a71ffdf4f2"
      },
      "source": [
        "# Program untuk menjumlahkan semua\n",
        "# bilangan asli hingga suku ke-n\n",
        "# jum = 1+2+3+...+n\n",
        "\n",
        "n = 10\n",
        "jumlah = 0\n",
        "i = 1\n",
        "\n",
        "while i <= n:\n",
        "  jumlah = jumlah + i\n",
        "  i = i + 1\n",
        "\n",
        "\n",
        "print(jumlah)"
      ],
      "execution_count": 41,
      "outputs": [
        {
          "output_type": "stream",
          "name": "stdout",
          "text": [
            "55\n"
          ]
        }
      ]
    },
    {
      "cell_type": "markdown",
      "metadata": {
        "id": "D33RrucqcCYi"
      },
      "source": [
        "###**While loop with else**"
      ]
    },
    {
      "cell_type": "markdown",
      "metadata": {
        "id": "8AbD7fIRcG1s"
      },
      "source": [
        "Sama dengan `for` loop kita juga dapat mengkombinasikan `while` loop dengan blok `else`.\n",
        "\n",
        "Bagian `else` akan dieksekusi jika nilai pada `test expression` pada `while loop` bernilai `False`. Perhatikan contoh berikut :"
      ]
    },
    {
      "cell_type": "code",
      "metadata": {
        "id": "AcQRv8RycgyY",
        "colab": {
          "base_uri": "https://localhost:8080/"
        },
        "outputId": "4a1fa143-3056-46b7-b7ab-0314290b236a"
      },
      "source": [
        "jum = 0\n",
        "i = 1\n",
        "while i <= n:\n",
        "  jum = jum + i\n",
        "  i = i + 1\n",
        "else:\n",
        "  print(jum) # dieksukusi diluar looping"
      ],
      "execution_count": 42,
      "outputs": [
        {
          "output_type": "stream",
          "name": "stdout",
          "text": [
            "55\n"
          ]
        }
      ]
    },
    {
      "cell_type": "markdown",
      "metadata": {
        "id": "OEXY6_qpcyNc"
      },
      "source": [
        "###Latihan 2"
      ]
    },
    {
      "cell_type": "markdown",
      "metadata": {
        "id": "uH1d-Wrmc0zw"
      },
      "source": [
        "Diberikan list `tagihan` hitunglah `total_tagihan` menggunakan `while loop`.\n",
        "\n",
        "\n",
        "```\n",
        "tagihan = [50000, 75000, 125000, 300000, 200000]\n",
        "```\n",
        "\n"
      ]
    },
    {
      "cell_type": "code",
      "metadata": {
        "id": "EJ1EiFASdHZT",
        "colab": {
          "base_uri": "https://localhost:8080/"
        },
        "outputId": "9bda5114-7760-4b02-f2fc-4dbba38a745f"
      },
      "source": [
        "# Tuliskan kodemu\n",
        "\n",
        "tagihan = [50000, 75000, 125000, 300000, 200000]\n",
        "\n",
        "i = 0\n",
        "jumlah_tagihan = len(tagihan)\n",
        "total_tagihan = 0\n",
        "\n",
        "while i < jumlah_tagihan:\n",
        "  total_tagihan = total_tagihan + tagihan[i]\n",
        "  i = i + 1\n",
        "\n",
        "\n",
        "print(total_tagihan)"
      ],
      "execution_count": 43,
      "outputs": [
        {
          "output_type": "stream",
          "name": "stdout",
          "text": [
            "750000\n"
          ]
        }
      ]
    },
    {
      "cell_type": "markdown",
      "source": [
        "#**If Elif Else**"
      ],
      "metadata": {
        "id": "-H3fdQ4dTOz8"
      }
    },
    {
      "cell_type": "markdown",
      "source": [
        "#Percabangan/Struktur Pemilihan"
      ],
      "metadata": {
        "id": "BRhzqHkBXKcr"
      }
    },
    {
      "cell_type": "markdown",
      "source": [
        "Pada bagian ini, kamu akan membuat keputusan pada bahasa pemrograman Python menggunakan struktur percabangan atau juga sering disebut IF ELSE Statement. Pengambilan keputusan dibutuhkan ketika kamu akan mengeksekusi suatu kode jika sebuah kondisi tertentu dipenuhi.\n",
        "\n",
        "Statement `if .. elif ... else` digunakan pada bahasa Python untuk pengambilan keputusan."
      ],
      "metadata": {
        "id": "5EUI7SoKXNWU"
      }
    },
    {
      "cell_type": "markdown",
      "source": [
        "###IF Statements"
      ],
      "metadata": {
        "id": "VNi4RoH8XQl5"
      }
    },
    {
      "cell_type": "markdown",
      "source": [
        "**Python IF Statements Syntax**\n",
        "\n",
        "\n",
        "\n",
        "```\n",
        "if test expression:\n",
        "   statement(s)\n",
        "```\n",
        "\n",
        "**Python IF Statement Flowchart**\n",
        "\n",
        "![Python_if_statement.webp](data:image/webp;base64,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)"
      ],
      "metadata": {
        "id": "4dyfzSX9XSTy"
      }
    },
    {
      "cell_type": "markdown",
      "source": [
        "**Example : Python IF Statement**"
      ],
      "metadata": {
        "id": "YJbM4FhEY9hM"
      }
    },
    {
      "cell_type": "code",
      "source": [
        "# Jika angka adalah bilangan positif maka print \"adalah bilangan positif\"\n",
        "\n",
        "angka = 3\n",
        "if angka > 0:\n",
        "    print(angka, \"adalah bilangan positif.\")\n",
        "print(\"Pernyataan ini selalu ditampilkan.\")\n",
        "\n",
        "angka = -1\n",
        "if angka > 0:\n",
        "    print(angka, \"adalah bilangan positif.\")\n",
        "print(\"Pernyataan ini juga selalu ditampilkan.\")"
      ],
      "metadata": {
        "colab": {
          "base_uri": "https://localhost:8080/"
        },
        "id": "s_lOQ09AY-46",
        "outputId": "f7435d62-7b9d-4b9b-ef4d-bbfa9d3688cd"
      },
      "execution_count": 44,
      "outputs": [
        {
          "output_type": "stream",
          "name": "stdout",
          "text": [
            "3 adalah bilangan positif.\n",
            "Pernyataan ini selalu ditampilkan.\n",
            "Pernyataan ini juga selalu ditampilkan.\n"
          ]
        }
      ]
    },
    {
      "cell_type": "markdown",
      "source": [
        "###IF ELSE Statements"
      ],
      "metadata": {
        "id": "VQXnHQ8cZDZ-"
      }
    },
    {
      "cell_type": "markdown",
      "source": [
        "**Python IF ELSE Statement Syntax**\n",
        "\n",
        "\n",
        "\n",
        "```\n",
        "if test expression :\n",
        "   Body of if\n",
        "else :\n",
        "   Body of else\n",
        "```\n",
        "\n",
        "**Python IF ELSE Statement Flowchart**\n",
        "\n",
        "![Python_if_else_statement.webp](data:image/webp;base64,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)"
      ],
      "metadata": {
        "id": "LrzC63bQZFdP"
      }
    },
    {
      "cell_type": "markdown",
      "source": [
        "**Example : Python IF ELSE Statement**"
      ],
      "metadata": {
        "id": "wqYk2FpTZkNG"
      }
    },
    {
      "cell_type": "code",
      "source": [
        "# Program disusun untuk mengecek apakah angka tersebut kurang dari 0 atau tidak\n",
        "# dan menampilkan tulisan yang sesuai\n",
        "\n",
        "angka = 3\n",
        "\n",
        "if angka >= 0:\n",
        "    print(\"Bilangan lebih dari atau samadengan 0\")\n",
        "else:\n",
        "    print(\"Bilangan kurang dari 0\")"
      ],
      "metadata": {
        "colab": {
          "base_uri": "https://localhost:8080/"
        },
        "id": "Vbt7sdPPZl0N",
        "outputId": "1c9c7a21-9a84-4df2-a3a9-7fb84ecaab58"
      },
      "execution_count": 45,
      "outputs": [
        {
          "output_type": "stream",
          "name": "stdout",
          "text": [
            "Bilangan lebih dari atau samadengan 0\n"
          ]
        }
      ]
    },
    {
      "cell_type": "code",
      "source": [
        "# Program disusun untuk mengecek apakah dua buah angka sama atau tidak\n",
        "# dan menampilkan tulisan yang sesuai\n",
        "\n",
        "a = 5\n",
        "b = 5\n",
        "\n",
        "if a==b:\n",
        "    print(\"a dan b bernilai sama\")\n",
        "else:\n",
        "    print(\"a dan b bernilai berbeda\")\n",
        "    print(\"Belajar If Else\")"
      ],
      "metadata": {
        "colab": {
          "base_uri": "https://localhost:8080/"
        },
        "id": "LcurZjbBZoSS",
        "outputId": "24ea02d7-a1cf-40c4-ee36-2f61e4038ec9"
      },
      "execution_count": 46,
      "outputs": [
        {
          "output_type": "stream",
          "name": "stdout",
          "text": [
            "a dan b bernilai sama\n"
          ]
        }
      ]
    },
    {
      "cell_type": "code",
      "source": [
        "# Program disusun untuk mengecek apakah perbandingan dua buah angka\n",
        "# dan menampilkan tulisan yang sesuai\n",
        "\n",
        "# membaca dua angka\n",
        "bil1 = int(input(\"Masukkan bilangan pertama:\"))\n",
        "bil2 = int(input(\"Masukkan bilangan kedua:\"))\n",
        "\n",
        "# memilih bilanagan yang lebih besar\n",
        "if bil1 > bil2 :\n",
        "    bil_lebih_besar = bil1\n",
        "else:\n",
        "    bil_lebih_besar = bil2\n",
        "\n",
        "# menampilkan hasil\n",
        "print(\"Bilangan yang lebih besar adalah:\", bil_lebih_besar)"
      ],
      "metadata": {
        "colab": {
          "base_uri": "https://localhost:8080/"
        },
        "id": "fTtbz_TEZqw4",
        "outputId": "aa004ffa-8d6b-4087-843d-e83723d8d5c9"
      },
      "execution_count": 47,
      "outputs": [
        {
          "output_type": "stream",
          "name": "stdout",
          "text": [
            "Masukkan bilangan pertama:3\n",
            "Masukkan bilangan kedua:5\n",
            "Bilangan yang lebih besar adalah: 5\n"
          ]
        }
      ]
    },
    {
      "cell_type": "markdown",
      "source": [
        "###IF ELIF ELSE Statements"
      ],
      "metadata": {
        "id": "ty3nMot_Zt8h"
      }
    },
    {
      "cell_type": "markdown",
      "source": [
        "**Python IF ELIF ELSE Statement Syntax**\n",
        "\n",
        "\n",
        "```\n",
        "if test expression :\n",
        "    Body of if\n",
        "elif test expression :\n",
        "    Body of elif\n",
        "else :\n",
        "    Body of else\n",
        "```\n",
        "\n",
        "**Python IF ELIF ELSE Statement Flow Chart**\n",
        "\n",
        "![Python_if_elif_else_statement.webp](data:image/webp;base64,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)"
      ],
      "metadata": {
        "id": "xsDLVjrjZv-s"
      }
    },
    {
      "cell_type": "markdown",
      "source": [
        "**Example : Python IF ELIF ELSE Statement**"
      ],
      "metadata": {
        "id": "J1cA_tgiXa-K"
      }
    },
    {
      "cell_type": "code",
      "source": [
        "# Program disusun untuk mengecek apakah angka merupakan bilangan positif, negatif, atau nol\n",
        "# dan menampilkan tulisan yang sesuai\n",
        "\n",
        "angka = 3.4\n",
        "\n",
        "if angka > 0:\n",
        "    print(\"Bilangan Positif\")\n",
        "elif num == 0:\n",
        "    print(\"Nol\")\n",
        "else:\n",
        "    print(\"Bilangan Negatif\")"
      ],
      "metadata": {
        "colab": {
          "base_uri": "https://localhost:8080/"
        },
        "id": "US8MZOmPXfnA",
        "outputId": "b2413705-9d11-4f0e-8ba8-8faa8227945d"
      },
      "execution_count": 48,
      "outputs": [
        {
          "output_type": "stream",
          "name": "stdout",
          "text": [
            "Bilangan Positif\n"
          ]
        }
      ]
    },
    {
      "cell_type": "code",
      "source": [
        "# Statement if\n",
        "x = 4\n",
        "if x % 2 == 0: # jika x dibagi 2 sisanya samadengan 0\n",
        "    print(\"x habis dibagi dua\")\n",
        "\n",
        "# Statement if ... elif ... else\n",
        "x = 7\n",
        "if x % 2 == 0: # jika x dibagi 2 sisanya samadengan 0\n",
        "    print(\"x habis dibagi dua\")\n",
        "elif x % 3 == 0: # jika x dibagi 3 sisanya samadengan 0\n",
        "    print(\"x habis dibagi tiga\")\n",
        "elif x % 5 == 0: # jika x dibagi 5 sisanya samadengan 0\n",
        "    print(\"x habis dibagi lima\")\n",
        "else:\n",
        "    print(\"x tidak habis dibagi dua, tiga ataupun lima\")"
      ],
      "metadata": {
        "colab": {
          "base_uri": "https://localhost:8080/"
        },
        "id": "kscfBI0gXiNP",
        "outputId": "81dcf51a-6ade-4306-a7e5-9b96286a5284"
      },
      "execution_count": 49,
      "outputs": [
        {
          "output_type": "stream",
          "name": "stdout",
          "text": [
            "x habis dibagi dua\n",
            "x tidak habis dibagi dua, tiga ataupun lima\n"
          ]
        }
      ]
    },
    {
      "cell_type": "markdown",
      "source": [
        "###Python Nested IF Statements"
      ],
      "metadata": {
        "id": "c-RmqxNKXlAJ"
      }
    },
    {
      "cell_type": "markdown",
      "source": [
        "**Example : Python NESTED IF Statement**"
      ],
      "metadata": {
        "id": "s0WK3JH4XnSa"
      }
    },
    {
      "cell_type": "code",
      "source": [
        "# Program disusun untuk mengecek apakah angka merupakan bilangan positif, negatif, atau nol\n",
        "# dan menampilkan tulisan yang sesuai\n",
        "\n",
        "angka = float(input(\"Masukkan angka: \"))\n",
        "if angka >= 0:\n",
        "    if angka == 0:\n",
        "        print(\"Nol\")\n",
        "    else:\n",
        "        print(\"Bilangan Positif\")\n",
        "else:\n",
        "    print(\"Bilangan Negatif\")\n"
      ],
      "metadata": {
        "colab": {
          "base_uri": "https://localhost:8080/"
        },
        "id": "816BDZeXXqsm",
        "outputId": "89e02443-0d07-4aa9-c6b0-6ffffbed987b"
      },
      "execution_count": 50,
      "outputs": [
        {
          "output_type": "stream",
          "name": "stdout",
          "text": [
            "Masukkan angka: 4\n",
            "Bilangan Positif\n"
          ]
        }
      ]
    },
    {
      "cell_type": "markdown",
      "source": [
        "###Latihan"
      ],
      "metadata": {
        "id": "K_EbZhoeXxqN"
      }
    },
    {
      "cell_type": "markdown",
      "source": [
        "Buatlah sebuah fungsi \"Mahal_Diskon\" dengan ketentuan :\n",
        "\n",
        "*   Input berupa data harga produk dengan tipe data numerik Tunggal\n",
        "*   Kategori Input adalah \"Murah\" dan \"Mahal\", kemudian diskon ada 3 kategori \"10%\", \"20%\", dan \"40%\"\n",
        "*   Output Pertama sebuah teks/string yang menyatakan \"Mahal\" atau \"Murah\" dan Keterangan \"Kamu Dapat Diskon ..\"\n",
        "*   Output Kedua adalah harga yang perlu dibayarkan\n",
        "\n",
        "\n"
      ],
      "metadata": {
        "id": "a6b5vLR1X7A3"
      }
    },
    {
      "cell_type": "code",
      "source": [
        "# Ketikan Codingan anda\n",
        "harga = float(input(\"harga:\"))\n",
        "\n",
        "if harga >= 250000:\n",
        "  print(\"mahal\")\n",
        "else:\n",
        "  print(\"murah\")\n",
        "\n",
        "\n",
        "if 200000 >= harga < 400000:\n",
        "  print(\"Kamu mendapat diskon 10%\")\n",
        "elif 400000 >= harga < 800000:\n",
        "  print(\"Kamu mendapat diskon 20%\")\n",
        "elif harga >= 800000:\n",
        "  print(\"Kamu mendapat diskon 40%\")\n",
        "else:\n",
        "  print(\"Kamu tidak mendapat diskon\")\n",
        "\n",
        "\n",
        "if 200000 >= harga < 400000:\n",
        "  print(\"Kamu harus membayar:\", harga-harga*10/100)\n",
        "elif 400000 >= harga < 800000:\n",
        "  print(\"Kamu harus membayar:\", harga-harga*20/100)\n",
        "elif harga >= 800000:\n",
        "  print(\"Kamu harus membayar:\", harga-harga*40/100)\n",
        "else:\n",
        "  print(\"Kamu tidak mendapat diskon\")"
      ],
      "metadata": {
        "colab": {
          "base_uri": "https://localhost:8080/"
        },
        "id": "ovTVVad9X_zU",
        "outputId": "e050a7b5-838d-4d33-c0ba-06458048f22a"
      },
      "execution_count": 51,
      "outputs": [
        {
          "output_type": "stream",
          "name": "stdout",
          "text": [
            "harga:4500000\n",
            "mahal\n",
            "Kamu mendapat diskon 40%\n",
            "Kamu harus membayar: 2700000.0\n"
          ]
        }
      ]
    }
  ]
}