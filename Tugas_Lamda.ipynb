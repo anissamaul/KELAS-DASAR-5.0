{
  "nbformat": 4,
  "nbformat_minor": 0,
  "metadata": {
    "colab": {
      "provenance": []
    },
    "kernelspec": {
      "name": "python3",
      "display_name": "Python 3"
    },
    "language_info": {
      "name": "python"
    }
  },
  "cells": [
    {
      "cell_type": "markdown",
      "source": [
        "**1. Buatlah fungsi lambda untuk menghitung fungsi dari persegi panjang**"
      ],
      "metadata": {
        "id": "aPeVI1cvLoHw"
      }
    },
    {
      "cell_type": "code",
      "execution_count": 1,
      "metadata": {
        "colab": {
          "base_uri": "https://localhost:8080/"
        },
        "id": "b6ixmfKHLiBH",
        "outputId": "5217fe04-9097-4f18-9380-34dec7a000f9"
      },
      "outputs": [
        {
          "output_type": "stream",
          "name": "stdout",
          "text": [
            "luas persegi panjang Anda 20 cm \n"
          ]
        }
      ],
      "source": [
        "# Fungsi lambda untuk menghitung luas dari persegi panjang\n",
        "Luas_Persegi_Panjang = lambda p,l: print(f\"luas persegi panjang Anda {p*l} cm \")\n",
        "Luas_Persegi_Panjang(4,5)"
      ]
    },
    {
      "cell_type": "markdown",
      "source": [
        "**2. Buatlah fungsi lambda untuk menghitung luas dari segitiga**"
      ],
      "metadata": {
        "id": "HN1hyy5bLvW1"
      }
    },
    {
      "cell_type": "code",
      "source": [
        "# Fungsi lambda untuk menghitung luas dari segitiga\n",
        "Luas_Segitiga = lambda a,t: print(f\"luas segitiga Anda {a*t/2} cm\")\n",
        "Luas_Segitiga(5,6)"
      ],
      "metadata": {
        "colab": {
          "base_uri": "https://localhost:8080/"
        },
        "id": "bCIbcvlnL5Tu",
        "outputId": "329d9c07-5d87-4a75-f0a4-18ea12fb46d1"
      },
      "execution_count": 2,
      "outputs": [
        {
          "output_type": "stream",
          "name": "stdout",
          "text": [
            "luas segitiga Anda 15.0 cm\n"
          ]
        }
      ]
    }
  ]
}