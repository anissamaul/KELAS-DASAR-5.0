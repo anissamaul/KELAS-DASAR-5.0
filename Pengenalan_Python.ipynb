{
  "nbformat": 4,
  "nbformat_minor": 0,
  "metadata": {
    "colab": {
      "provenance": []
    },
    "kernelspec": {
      "name": "python3",
      "display_name": "Python 3"
    },
    "language_info": {
      "name": "python"
    }
  },
  "cells": [
    {
      "cell_type": "markdown",
      "metadata": {
        "id": "LfqdRaKpdUn5"
      },
      "source": [
        "## Pengenalan Python"
      ]
    },
    {
      "cell_type": "markdown",
      "metadata": {
        "id": "uSSyPAY0g3Vp"
      },
      "source": [
        "Python adalah Bahasa Pemrograman tingkat tinggi dengan dynamic semantics, bersifat object oriented, dan interpretatif. bahasa pemrograman ini fokus dikembangkan pada keterbacaan bahasa pemrograman.\n",
        "\n",
        "1.   **Bahasa Pemrograman Tingkat Tinggi (High Level Programming)** Artinya sintaks kode lebih mudah ditafsirkan oleh manusia.\n",
        "2.   **Interpretatif** ini artinya bahasa ini memerlukan intrepeter atau penerjemah. Ini memungkinkan bagi kita untuk menggunakan Bahasa yang lebih mudah kita pahami.\n",
        "3.   **Object Oriented** ini berarti bahwa bahasa pemrograman ini berorientasi kepada object. Hal ini membuat Python lebih mudah untuk dikembangkan.\n",
        "2.   **Dynamic Semantics** Python secara otomatis akan menyesuaikan tipe dari suatu variable berdasarkan inputnya.\n",
        "\n",
        "\n",
        "\n"
      ]
    },
    {
      "cell_type": "markdown",
      "metadata": {
        "id": "Xh1jsZrLjfWz"
      },
      "source": [
        "# Mengapa Python?"
      ]
    },
    {
      "cell_type": "markdown",
      "metadata": {
        "id": "deW5Ds3ej5VK"
      },
      "source": [
        "\n",
        "\n",
        "1.   Mudah dipahami\n",
        "2.   Gratis & Open Source\n",
        "1.   Dinamis\n",
        "2.   Memiliki Library Terlengkap untuk Data Sains\n",
        "\n",
        "\n",
        "\n"
      ]
    },
    {
      "cell_type": "markdown",
      "metadata": {
        "id": "y6LB7tNokV2S"
      },
      "source": [
        "# Struktur Program Pada Python"
      ]
    },
    {
      "cell_type": "markdown",
      "metadata": {
        "id": "4sw3kSV7lMer"
      },
      "source": [
        "Python pada umumnya terdiri dari :\n",
        "\n",
        "**1. Statements**\n",
        "\n",
        "\n",
        "\n"
      ]
    },
    {
      "cell_type": "code",
      "metadata": {
        "colab": {
          "base_uri": "https://localhost:8080/"
        },
        "id": "NjakXWHJnLe5",
        "outputId": "7d8d828b-6e80-4e71-d506-892b1e48566c"
      },
      "source": [
        "print(\"belajar Python menyenangkan\")\n",
        "print(\"halo dunia\")"
      ],
      "execution_count": null,
      "outputs": [
        {
          "output_type": "stream",
          "name": "stdout",
          "text": [
            "belajar Python menyenangkan\n",
            "halo dunia\n"
          ]
        }
      ]
    },
    {
      "cell_type": "markdown",
      "metadata": {
        "id": "FPZKU16fnzpD"
      },
      "source": [
        "\n",
        "\n",
        "**2. Variables**\n",
        "\n"
      ]
    },
    {
      "cell_type": "code",
      "metadata": {
        "id": "Se01f2GUn_Kl"
      },
      "source": [
        "bilangan1 = 5\n",
        "bilangan2 = 10\n",
        "kalimat = \"Pejuang Data 3\""
      ],
      "execution_count": null,
      "outputs": []
    },
    {
      "cell_type": "markdown",
      "metadata": {
        "id": "Xj1DoUEepmyL"
      },
      "source": [
        "\n",
        "\n",
        "  **3. Literals** : Simbol-simbol yang dapat kita gunakan untuk mengisi suatu variabel.\n",
        "\n",
        "\n"
      ]
    },
    {
      "cell_type": "markdown",
      "metadata": {
        "id": "2efiejnPqbcl"
      },
      "source": [
        "\n",
        "\n",
        " **4. Operators** : Simbol-simbol yang dapat digunakan untuk mengubah nilai dari satu variabel dengan melibatkan satu atau lebih variabel dan literal.\n",
        "\n",
        "\n"
      ]
    },
    {
      "cell_type": "code",
      "metadata": {
        "colab": {
          "base_uri": "https://localhost:8080/"
        },
        "id": "KuxC32_SqMfi",
        "outputId": "54433c88-8f99-437f-de73-adeb7ac0e071"
      },
      "source": [
        "bilangan1 + bilangan2"
      ],
      "execution_count": null,
      "outputs": [
        {
          "output_type": "execute_result",
          "data": {
            "text/plain": [
              "15"
            ]
          },
          "metadata": {},
          "execution_count": 6
        }
      ]
    },
    {
      "cell_type": "markdown",
      "metadata": {
        "id": "oHQJbkJaq7W9"
      },
      "source": [
        "\n",
        "\n",
        " **5. Reserved Words** : kumpulan kata-kata yang memiliki makna khusus dalam bahasa perograman Python. Kata `False`, `return`, dan `for` merupakan contoh dari reserved words.\n",
        "\n"
      ]
    },
    {
      "cell_type": "markdown",
      "metadata": {
        "id": "bSRxKArCsuAv"
      },
      "source": [
        "\n",
        "\n",
        " **6. Whitespace** : Pada bahasa Python, spasi dan tab memiliki makna khusus untuk menandai serangkaian blok dalam kode Python.\n",
        "\n"
      ]
    },
    {
      "cell_type": "markdown",
      "metadata": {
        "id": "wj1hCARgtJda"
      },
      "source": [
        "\n",
        "\n",
        " **7. Comments** : Comments merupakan sekumpulan teks yang dituliskan di dalam sebuah program yang tidak akan mempengaruhi hasil dari sebuah program.\n",
        "\n"
      ]
    },
    {
      "cell_type": "markdown",
      "metadata": {
        "id": "pi4LUszltofN"
      },
      "source": [
        "Terdapat dua jenis comments di dalam Python, yaitu :\n",
        "\n",
        "**a. single line comment** (comments dalam satu baris) seperti pada contoh berikut :\n",
        "\n"
      ]
    },
    {
      "cell_type": "code",
      "metadata": {
        "colab": {
          "base_uri": "https://localhost:8080/"
        },
        "id": "y2uUlt-cuw0p",
        "outputId": "180ae63e-5271-45ad-dbfc-48b96a57ba53"
      },
      "source": [
        "# Ini adalah Comment\n",
        "print(\"belajar Python\")"
      ],
      "execution_count": null,
      "outputs": [
        {
          "output_type": "stream",
          "name": "stdout",
          "text": [
            "belajar Python\n"
          ]
        }
      ]
    },
    {
      "cell_type": "markdown",
      "metadata": {
        "id": "ldEp9iBOvJoU"
      },
      "source": [
        "**b. multi line comment** (comments dalam beberapa baris) yang dapat dituliskan seperti pada contoh berikut :"
      ]
    },
    {
      "cell_type": "code",
      "metadata": {
        "colab": {
          "base_uri": "https://localhost:8080/"
        },
        "id": "N8wUhf4MvzKc",
        "outputId": "6ff9a464-ef7e-4784-fa87-8681f6fa3324"
      },
      "source": [
        "'''\n",
        "Ini adalah komentar panjang\n",
        "Bisa digunakan untuk memberikan penjelasan\n",
        "panjang pada Sell Kode Python,\n",
        "Misal dokumentasi program, spesifikasi\n",
        "input output atau lainnya\n",
        "'''\n",
        "\n",
        "print('Belajar Python menyenangkan')"
      ],
      "execution_count": null,
      "outputs": [
        {
          "output_type": "stream",
          "name": "stdout",
          "text": [
            "Belajar Python menyenangkan\n"
          ]
        }
      ]
    }
  ]
}