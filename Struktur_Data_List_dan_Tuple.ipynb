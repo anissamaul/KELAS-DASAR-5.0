{
  "nbformat": 4,
  "nbformat_minor": 0,
  "metadata": {
    "colab": {
      "provenance": []
    },
    "kernelspec": {
      "name": "python3",
      "display_name": "Python 3"
    },
    "language_info": {
      "name": "python"
    }
  },
  "cells": [
    {
      "cell_type": "markdown",
      "metadata": {
        "id": "WM87RARe9et7"
      },
      "source": [
        "###List"
      ]
    },
    {
      "cell_type": "markdown",
      "metadata": {
        "id": "psQZ9g_Z9oss"
      },
      "source": [
        "List adalah jenis kumpulan data terurut (ordered sequence), dan merupakan salah satu variabel yang sering digunakan pada Python. Serupa, namun tak sama dengan array pada bahasa pemrograman lainnya. Bedanya, elemen List pada Python tidak harus memiliki tipe data yang sama. Mendeklarasikan List cukup mudah dengan kurung siku dan elemen yang dipisahkan dengan koma.\n",
        "\n",
        "Setiap data di dalamnya dapat diakses dengan indeks yang dimulai dari 0."
      ]
    },
    {
      "cell_type": "code",
      "metadata": {
        "colab": {
          "base_uri": "https://localhost:8080/"
        },
        "id": "K-SkKTjr-uMg",
        "outputId": "dede41d1-720d-4820-daff-a48c70539636"
      },
      "source": [
        "#Contoh List\n",
        "L1 = [1, 4, 2, 13]\n",
        "print(type(L1))"
      ],
      "execution_count": 15,
      "outputs": [
        {
          "output_type": "stream",
          "name": "stdout",
          "text": [
            "<class 'list'>\n"
          ]
        }
      ]
    },
    {
      "cell_type": "code",
      "metadata": {
        "colab": {
          "base_uri": "https://localhost:8080/"
        },
        "id": "Jn4BWhpN-8O6",
        "outputId": "4a28efb8-5be4-44a2-c451-3edf798188e8"
      },
      "source": [
        "L2 = [\"a\",\"Python\",3]\n",
        "\n",
        "print(type(L2))"
      ],
      "execution_count": 16,
      "outputs": [
        {
          "output_type": "stream",
          "name": "stdout",
          "text": [
            "<class 'list'>\n"
          ]
        }
      ]
    },
    {
      "cell_type": "code",
      "metadata": {
        "colab": {
          "base_uri": "https://localhost:8080/"
        },
        "id": "wtPE9MK1BxqZ",
        "outputId": "83d305c4-5d1f-4143-dab6-3467b7727e56"
      },
      "source": [
        "print(L1)\n",
        "print(L2)"
      ],
      "execution_count": 17,
      "outputs": [
        {
          "output_type": "stream",
          "name": "stdout",
          "text": [
            "[1, 4, 2, 13]\n",
            "['a', 'Python', 3]\n"
          ]
        }
      ]
    },
    {
      "cell_type": "markdown",
      "metadata": {
        "id": "mBo4G2ffCEZA"
      },
      "source": [
        "Indeks di Python (List,Tuple) mulai dari **0**"
      ]
    },
    {
      "cell_type": "code",
      "metadata": {
        "colab": {
          "base_uri": "https://localhost:8080/"
        },
        "id": "8bD8VOVRCSd7",
        "outputId": "6df3d7b3-cf24-4af7-9a3c-e9c2d03b9e93"
      },
      "source": [
        "#Sifat-sifat List\n",
        "\n",
        "#Terurut/Ordered\n",
        "print(\"Memanggil List L1 dengan indeks urutan:\", L1[0:3])\n",
        "\n",
        "#Bisa Diganti/Mutable\n",
        "L1[1] = 2\n",
        "print(\"List L1 setelah diganti elemennya:\", L1)\n",
        "\n",
        "L1 = [1, \"dua\", True, 2+3j]\n",
        "\n",
        "#Dapat Diindeks/Slicing\n",
        "print(\"Slicing List L1:\", L1[3])\n",
        "\n",
        "#Dapat Dijinkan Duplikasi\n",
        "L1 = [1, \"dua\", True, 2+3j, 2+3j]\n",
        "print(\"Duplikasi pada List L1:\", L1)\n",
        "\n",
        "#Dapat mengubah data dengan mengganti elemen tertentu\n",
        "L1 = [1, \"dua\", True, 2+3j]\n",
        "L1[2]=3\n",
        "print(\"Data setelah diubah:\", L1)\n",
        "\n",
        "#Dapat menambahkan elemen baru pada data\n",
        "L1 = [1, \"dua\", True, 2+3j]\n",
        "L1.append(20)\n",
        "print(\"Data setelah ditambahkan elemennya:\", L1)\n",
        "\n",
        "#Dapat menghapus elemen pada data (remove() = menghapus berdasarkan nama objek)\n",
        "L1 = [1, \"dua\", True, 2+3j]\n",
        "L1.remove(2+3j)\n",
        "print(\"Data setelah dihapus elemennya:\", L1)"
      ],
      "execution_count": 18,
      "outputs": [
        {
          "output_type": "stream",
          "name": "stdout",
          "text": [
            "Memanggil List L1 dengan indeks urutan: [1, 4, 2]\n",
            "List L1 setelah diganti elemennya: [1, 2, 2, 13]\n",
            "Slicing List L1: (2+3j)\n",
            "Duplikasi pada List L1: [1, 'dua', True, (2+3j), (2+3j)]\n",
            "Data setelah diubah: [1, 'dua', 3, (2+3j)]\n",
            "Data setelah ditambahkan elemennya: [1, 'dua', True, (2+3j), 20]\n",
            "Data setelah dihapus elemennya: [1, 'dua', True]\n"
          ]
        }
      ]
    },
    {
      "cell_type": "code",
      "source": [
        "#menambahkan data menggunakan fungsi insert(menambahkan elemen baru di list pada indeks tertentu)\n",
        "\n",
        "L1 = [1, \"dua\", True, 2+3j]\n",
        "L1.insert(2, 5)\n",
        "print(L1)"
      ],
      "metadata": {
        "colab": {
          "base_uri": "https://localhost:8080/"
        },
        "id": "whAnEAuvect_",
        "outputId": "3530407d-8fc6-4df6-d432-568c6ccf8322"
      },
      "execution_count": 19,
      "outputs": [
        {
          "output_type": "stream",
          "name": "stdout",
          "text": [
            "[1, 'dua', 5, True, (2+3j)]\n"
          ]
        }
      ]
    },
    {
      "cell_type": "code",
      "source": [
        "#mengubah elemen dari list menggunakan fungsi pop() (menghapus berdasarkan indeks)\n",
        "L1 = [1, \"dua\", True, 2+3j]\n",
        "L1.pop(2)\n",
        "print(L1)"
      ],
      "metadata": {
        "colab": {
          "base_uri": "https://localhost:8080/"
        },
        "id": "6oGHwoyFe47E",
        "outputId": "62ead0ec-343d-497f-dac6-68df490f9ac7"
      },
      "execution_count": 20,
      "outputs": [
        {
          "output_type": "stream",
          "name": "stdout",
          "text": [
            "[1, 'dua', (2+3j)]\n"
          ]
        }
      ]
    },
    {
      "cell_type": "code",
      "source": [
        "L1 = [1, \"dua\", True, 2+3j]\n",
        "L1.pop()\n",
        "print(L1)"
      ],
      "metadata": {
        "colab": {
          "base_uri": "https://localhost:8080/"
        },
        "id": "WzViqNfvfWW0",
        "outputId": "9f54b4ca-f631-4b3f-c5e3-bd5390c7ad88"
      },
      "execution_count": 21,
      "outputs": [
        {
          "output_type": "stream",
          "name": "stdout",
          "text": [
            "[1, 'dua', True]\n"
          ]
        }
      ]
    },
    {
      "cell_type": "markdown",
      "metadata": {
        "id": "OhKZ3iumHExf"
      },
      "source": [
        "Latihan 1"
      ]
    },
    {
      "cell_type": "code",
      "source": [
        "#Buatlah List kalian sendiri\n",
        "HotSauce = [\"Hot Sauce\", \"Diggity\", \"Dive Into You\", \"My Youth\", \"Rocket\", \"Countdown 321\", \"ANL\", \"Irreplaceable\", \"Be There For You\", \"Rainbow\"]\n",
        "print(type(HotSauce))"
      ],
      "metadata": {
        "colab": {
          "base_uri": "https://localhost:8080/"
        },
        "id": "dSE3PaL4ct-k",
        "outputId": "58f24aa1-998e-46b0-b3fb-bd50f92d1744"
      },
      "execution_count": 22,
      "outputs": [
        {
          "output_type": "stream",
          "name": "stdout",
          "text": [
            "<class 'list'>\n"
          ]
        }
      ]
    },
    {
      "cell_type": "code",
      "source": [
        "GlitchMode = [\"Fire Alarm\", \"Glitch Mode\", \"Arcade\", \"Its Yours\", \"Teddy Bear\", \"Replay\", \"Saturday Drip\", \"Better Than Glow\", \"Drive\", \"Never Goodbye\", \"Rewind\"]\n",
        "print(type(GlitchMode))"
      ],
      "metadata": {
        "colab": {
          "base_uri": "https://localhost:8080/"
        },
        "id": "aAICKDHIcyIr",
        "outputId": "434c8b7a-1336-49b6-9c72-05977dc64bab"
      },
      "execution_count": 23,
      "outputs": [
        {
          "output_type": "stream",
          "name": "stdout",
          "text": [
            "<class 'list'>\n"
          ]
        }
      ]
    },
    {
      "cell_type": "code",
      "source": [
        "print(HotSauce)\n",
        "print(GlitchMode)"
      ],
      "metadata": {
        "colab": {
          "base_uri": "https://localhost:8080/"
        },
        "id": "4Sj4dWrSc5Bi",
        "outputId": "773564ed-00b9-4632-f98b-7c897880e541"
      },
      "execution_count": 24,
      "outputs": [
        {
          "output_type": "stream",
          "name": "stdout",
          "text": [
            "['Hot Sauce', 'Diggity', 'Dive Into You', 'My Youth', 'Rocket', 'Countdown 321', 'ANL', 'Irreplaceable', 'Be There For You', 'Rainbow']\n",
            "['Fire Alarm', 'Glitch Mode', 'Arcade', 'Its Yours', 'Teddy Bear', 'Replay', 'Saturday Drip', 'Better Than Glow', 'Drive', 'Never Goodbye', 'Rewind']\n"
          ]
        }
      ]
    },
    {
      "cell_type": "markdown",
      "source": [
        "Latihan 2"
      ],
      "metadata": {
        "id": "5B9GjN3unVWO"
      }
    },
    {
      "cell_type": "code",
      "source": [
        "#Ganti elemen yang ada pada List yang kalian buat\n",
        "\n",
        "#Terurut/Ordered\n",
        "print(\"Memanggil List Hot Sauce dengan indeks urutan:\",HotSauce[0:9])\n",
        "print(\"Memanggil List Glitch Mode dengan indeks urutan:\",GlitchMode[0:10])\n",
        "print('-'*20)\n",
        "\n",
        "# Bisa Diganti/Mutable\n",
        "HotSauce[0]    = \"Hello Future\"\n",
        "GlitchMode[1]   = \"Beatbox\"\n",
        "print(\"List Hot Sauce setelah diganti elemennya:\",HotSauce)\n",
        "print(\"List Glitch Mode setelah diganti elemennya:\",GlitchMode)\n",
        "print('-'*20)\n",
        "\n",
        "# Dapat diindeks/slicing\n",
        "HotSauce  = [13,\"ANL\",\"Bungee\",45+57j]\n",
        "GlitchMode = [15,\"On The Way\",\"Sorry Heart\",\"Rewind\",51+16j]\n",
        "print(\"Slicing List Hot Sauce:\",HotSauce[1])\n",
        "print(\"Slicing List Glitch Mode:\",GlitchMode[3])\n",
        "print('-'*20)\n",
        "\n",
        "# Dapat Diijinkan Duplikasi\n",
        "HotSauce  = [13,\"ANL\",\"Bungee\",45+57j]\n",
        "GlitchMode = [15,\"On The Way\",\"Sorry Heart\",\"Rewind\",51+16j]\n",
        "print(\"Duplikasi List Hot Sauce:\",HotSauce)\n",
        "print(\"Duplikasi List GlitchMode:\",GlitchMode)\n",
        "\n",
        "#Dapat mengubah data dengan mengganti elemen tertentu\n",
        "HotSauce  = [13,\"ANL\",\"Bungee\",45+57j]\n",
        "GlitchMode = [15,\"On The Way\",\"Sorry Heart\",\"Rewind\",51+16j]\n",
        "HotSauce[2] = \"My Youth\"\n",
        "GlitchMode[1] = \"Replay\"\n",
        "print(\"Data setelah diubah:\", HotSauce)\n",
        "print(\"Data setelah diubah:\", GlitchMode)\n",
        "\n",
        "#Dapat menambahkan elemen baru pada data\n",
        "HotSauce  = [13,\"ANL\",\"Bungee\",45+57j]\n",
        "GlitchMode = [15,\"On The Way\",\"Sorry Heart\",\"Rewind\",51+16j]\n",
        "HotSauce.append(20)\n",
        "GlitchMode.append(20)\n",
        "print(\"Data setelah ditambahkan elemennya:\", HotSauce)\n",
        "print(\"Data setelah ditambahkan elemennya:\", GlitchMode)\n",
        "\n",
        "#Dapat menghapus elemen pada data (remove() = menghapus berdasarkan nama objek)\n",
        "HotSauce  = [13,\"ANL\",\"Bungee\",45+57j]\n",
        "GlitchMode = [15,\"On The Way\",\"Sorry Heart\",\"Rewind\",51+16j]\n",
        "HotSauce.remove(\"Bungee\")\n",
        "GlitchMode.remove(\"Sorry Heart\")\n",
        "print(\"Data setelah dihapus elemennya:\", HotSauce)\n",
        "print(\"Data setelah dihapus elemennya:\", GlitchMode)\n",
        "\n",
        "#Menambahkan data menggunakan fungsi insert(menambahkan elemen baru di list pada indeks tertentu)\n",
        "HotSauce  = [13,\"ANL\",\"Bungee\",45+57j]\n",
        "GlitchMode = [15,\"On The Way\",\"Sorry Heart\",\"Rewind\",51+16j]\n",
        "HotSauce.insert(2, \"Diggty\")\n",
        "GlitchMode = [4, \"Never Goodbye\"]\n",
        "print(HotSauce)\n",
        "print(GlitchMode)\n",
        "\n",
        "#mengubah elemen dari list menggunakan fungsi pop() (menghapus berdasarkan indeks)\n",
        "HotSauce  = [13,\"ANL\",\"Bungee\",45+57j]\n",
        "GlitchMode = [15,\"On The Way\",\"Sorry Heart\",\"Rewind\",51+16j]\n",
        "HotSauce.pop(2)\n",
        "GlitchMode.pop(2)\n",
        "print(HotSauce)\n",
        "print(GlitchMode)"
      ],
      "metadata": {
        "colab": {
          "base_uri": "https://localhost:8080/"
        },
        "id": "vXnp3czYjeRK",
        "outputId": "3e7d75b7-2a17-4f2a-ec82-0675c3fcf38d"
      },
      "execution_count": 25,
      "outputs": [
        {
          "output_type": "stream",
          "name": "stdout",
          "text": [
            "Memanggil List Hot Sauce dengan indeks urutan: ['Hot Sauce', 'Diggity', 'Dive Into You', 'My Youth', 'Rocket', 'Countdown 321', 'ANL', 'Irreplaceable', 'Be There For You']\n",
            "Memanggil List Glitch Mode dengan indeks urutan: ['Fire Alarm', 'Glitch Mode', 'Arcade', 'Its Yours', 'Teddy Bear', 'Replay', 'Saturday Drip', 'Better Than Glow', 'Drive', 'Never Goodbye']\n",
            "--------------------\n",
            "List Hot Sauce setelah diganti elemennya: ['Hello Future', 'Diggity', 'Dive Into You', 'My Youth', 'Rocket', 'Countdown 321', 'ANL', 'Irreplaceable', 'Be There For You', 'Rainbow']\n",
            "List Glitch Mode setelah diganti elemennya: ['Fire Alarm', 'Beatbox', 'Arcade', 'Its Yours', 'Teddy Bear', 'Replay', 'Saturday Drip', 'Better Than Glow', 'Drive', 'Never Goodbye', 'Rewind']\n",
            "--------------------\n",
            "Slicing List Hot Sauce: ANL\n",
            "Slicing List Glitch Mode: Rewind\n",
            "--------------------\n",
            "Duplikasi List Hot Sauce: [13, 'ANL', 'Bungee', (45+57j)]\n",
            "Duplikasi List GlitchMode: [15, 'On The Way', 'Sorry Heart', 'Rewind', (51+16j)]\n",
            "Data setelah diubah: [13, 'ANL', 'My Youth', (45+57j)]\n",
            "Data setelah diubah: [15, 'Replay', 'Sorry Heart', 'Rewind', (51+16j)]\n",
            "Data setelah ditambahkan elemennya: [13, 'ANL', 'Bungee', (45+57j), 20]\n",
            "Data setelah ditambahkan elemennya: [15, 'On The Way', 'Sorry Heart', 'Rewind', (51+16j), 20]\n",
            "Data setelah dihapus elemennya: [13, 'ANL', (45+57j)]\n",
            "Data setelah dihapus elemennya: [15, 'On The Way', 'Rewind', (51+16j)]\n",
            "[13, 'ANL', 'Diggty', 'Bungee', (45+57j)]\n",
            "[4, 'Never Goodbye']\n",
            "[13, 'ANL', (45+57j)]\n",
            "[15, 'On The Way', 'Rewind', (51+16j)]\n"
          ]
        }
      ]
    },
    {
      "cell_type": "markdown",
      "source": [
        "##Struktur Data Tuple"
      ],
      "metadata": {
        "id": "ogwB55C0tg80"
      }
    },
    {
      "cell_type": "markdown",
      "source": [
        "Tuple adalah jenis dari struktur data yang tidak dapat diubah elemennya. Umumnya tuple digunakan untuk data yang bersifat sekali tulis, dan dapat dieksekusi lebih cepat. Tuple didefinisikan dengan kurung dan elemen yang dipisahakan dengan koma."
      ],
      "metadata": {
        "id": "wMTyqWIvtjyS"
      }
    },
    {
      "cell_type": "code",
      "source": [
        "#Contoh Tuple\n",
        "T1 = (1, \"dua\", True, 1+2j)\n",
        "print(\"ini adalah tuple\", T1)"
      ],
      "metadata": {
        "colab": {
          "base_uri": "https://localhost:8080/"
        },
        "id": "Rqp67SJWtprr",
        "outputId": "c312513d-de68-4a0e-b24f-9a956d14857e"
      },
      "execution_count": 26,
      "outputs": [
        {
          "output_type": "stream",
          "name": "stdout",
          "text": [
            "ini adalah tuple (1, 'dua', True, (1+2j))\n"
          ]
        }
      ]
    },
    {
      "cell_type": "code",
      "source": [
        "T11 = 1, \"dua\", True, 1+2j\n",
        "print(\"ini adalah tuple\", T11)"
      ],
      "metadata": {
        "colab": {
          "base_uri": "https://localhost:8080/"
        },
        "id": "rrbLdYpPtqZw",
        "outputId": "0488a851-4f8a-429a-f87d-dec92d435080"
      },
      "execution_count": 27,
      "outputs": [
        {
          "output_type": "stream",
          "name": "stdout",
          "text": [
            "ini adalah tuple (1, 'dua', True, (1+2j))\n"
          ]
        }
      ]
    },
    {
      "cell_type": "code",
      "source": [
        "#Menampilkan tipe struktur data\n",
        "type(T1)"
      ],
      "metadata": {
        "colab": {
          "base_uri": "https://localhost:8080/"
        },
        "id": "QYZwkPxwts8i",
        "outputId": "07dfb48c-a616-4ef5-fed9-c563f4216ed5"
      },
      "execution_count": 28,
      "outputs": [
        {
          "output_type": "execute_result",
          "data": {
            "text/plain": [
              "tuple"
            ]
          },
          "metadata": {},
          "execution_count": 28
        }
      ]
    },
    {
      "cell_type": "code",
      "source": [
        "type(T11)"
      ],
      "metadata": {
        "colab": {
          "base_uri": "https://localhost:8080/"
        },
        "id": "w6P2L6ecuIrt",
        "outputId": "4e8fafce-f6bc-424f-82b1-97e642afb1ea"
      },
      "execution_count": 29,
      "outputs": [
        {
          "output_type": "execute_result",
          "data": {
            "text/plain": [
              "tuple"
            ]
          },
          "metadata": {},
          "execution_count": 29
        }
      ]
    },
    {
      "cell_type": "markdown",
      "source": [
        "Sifat-sifat Tuple"
      ],
      "metadata": {
        "id": "71JoX9TBuLAd"
      }
    },
    {
      "cell_type": "code",
      "source": [
        "#Terurut/Ordered\n",
        "T1[0:3]"
      ],
      "metadata": {
        "colab": {
          "base_uri": "https://localhost:8080/"
        },
        "id": "EGgEgGS-uOXu",
        "outputId": "975a4319-d033-47af-91d7-50eab50ed8ed"
      },
      "execution_count": 30,
      "outputs": [
        {
          "output_type": "execute_result",
          "data": {
            "text/plain": [
              "(1, 'dua', True)"
            ]
          },
          "metadata": {},
          "execution_count": 30
        }
      ]
    },
    {
      "cell_type": "code",
      "source": [
        "#Tidak Bisa Diganti/Immutable\n",
        "T1[2] = \"manusia\""
      ],
      "metadata": {
        "colab": {
          "base_uri": "https://localhost:8080/",
          "height": 183
        },
        "id": "Wnb9l0XGuQiB",
        "outputId": "83fcfbb7-95e6-42d0-802c-b4af99b01443"
      },
      "execution_count": 31,
      "outputs": [
        {
          "output_type": "error",
          "ename": "TypeError",
          "evalue": "ignored",
          "traceback": [
            "\u001b[0;31m---------------------------------------------------------------------------\u001b[0m",
            "\u001b[0;31mTypeError\u001b[0m                                 Traceback (most recent call last)",
            "\u001b[0;32m<ipython-input-31-48d7e760e849>\u001b[0m in \u001b[0;36m<cell line: 2>\u001b[0;34m()\u001b[0m\n\u001b[1;32m      1\u001b[0m \u001b[0;31m#Tidak Bisa Diganti/Immutable\u001b[0m\u001b[0;34m\u001b[0m\u001b[0;34m\u001b[0m\u001b[0m\n\u001b[0;32m----> 2\u001b[0;31m \u001b[0mT1\u001b[0m\u001b[0;34m[\u001b[0m\u001b[0;36m2\u001b[0m\u001b[0;34m]\u001b[0m \u001b[0;34m=\u001b[0m \u001b[0;34m\"manusia\"\u001b[0m\u001b[0;34m\u001b[0m\u001b[0;34m\u001b[0m\u001b[0m\n\u001b[0m",
            "\u001b[0;31mTypeError\u001b[0m: 'tuple' object does not support item assignment"
          ]
        }
      ]
    },
    {
      "cell_type": "code",
      "source": [
        "#Dapat Diindeks/Slicing\n",
        "print(\"elemen kedua dari tuple T1 adalah:\", T1[1])"
      ],
      "metadata": {
        "colab": {
          "base_uri": "https://localhost:8080/"
        },
        "id": "qwwdwpcmuTW-",
        "outputId": "3fe04735-1803-4e35-8331-a877e3ce5509"
      },
      "execution_count": 32,
      "outputs": [
        {
          "output_type": "stream",
          "name": "stdout",
          "text": [
            "elemen kedua dari tuple T1 adalah: dua\n"
          ]
        }
      ]
    },
    {
      "cell_type": "code",
      "source": [
        "#Dapat Diijinkan Duplikasi\n",
        "T2 = (3, 2.4, True, 2.4)\n",
        "T2"
      ],
      "metadata": {
        "colab": {
          "base_uri": "https://localhost:8080/"
        },
        "id": "dIdeDt-5uUOS",
        "outputId": "7d53f81d-4588-48c4-8bfe-49b5ebfe3f46"
      },
      "execution_count": 33,
      "outputs": [
        {
          "output_type": "execute_result",
          "data": {
            "text/plain": [
              "(3, 2.4, True, 2.4)"
            ]
          },
          "metadata": {},
          "execution_count": 33
        }
      ]
    },
    {
      "cell_type": "code",
      "source": [
        "#Tidak dapat menambahkan elemen baru\n",
        "T1 = (1, \"dua\", True, 1+2j)\n",
        "print(f' tuple\\t: {T1}')"
      ],
      "metadata": {
        "colab": {
          "base_uri": "https://localhost:8080/"
        },
        "id": "Iz75UlKBuXRz",
        "outputId": "bacdbb6e-5b43-42ae-cbe8-884ce2798964"
      },
      "execution_count": 34,
      "outputs": [
        {
          "output_type": "stream",
          "name": "stdout",
          "text": [
            " tuple\t: (1, 'dua', True, (1+2j))\n"
          ]
        }
      ]
    },
    {
      "cell_type": "code",
      "source": [
        "T1.append(10)\n",
        "T1.append(50)\n",
        "print(f' tuple\\t: {T1}')"
      ],
      "metadata": {
        "colab": {
          "base_uri": "https://localhost:8080/",
          "height": 200
        },
        "id": "6so3X6MAub4j",
        "outputId": "723547eb-db6e-4401-a4d6-67be940274a6"
      },
      "execution_count": 35,
      "outputs": [
        {
          "output_type": "error",
          "ename": "AttributeError",
          "evalue": "ignored",
          "traceback": [
            "\u001b[0;31m---------------------------------------------------------------------------\u001b[0m",
            "\u001b[0;31mAttributeError\u001b[0m                            Traceback (most recent call last)",
            "\u001b[0;32m<ipython-input-35-5498d5de3a6d>\u001b[0m in \u001b[0;36m<cell line: 1>\u001b[0;34m()\u001b[0m\n\u001b[0;32m----> 1\u001b[0;31m \u001b[0mT1\u001b[0m\u001b[0;34m.\u001b[0m\u001b[0mappend\u001b[0m\u001b[0;34m(\u001b[0m\u001b[0;36m10\u001b[0m\u001b[0;34m)\u001b[0m\u001b[0;34m\u001b[0m\u001b[0;34m\u001b[0m\u001b[0m\n\u001b[0m\u001b[1;32m      2\u001b[0m \u001b[0mT1\u001b[0m\u001b[0;34m.\u001b[0m\u001b[0mappend\u001b[0m\u001b[0;34m(\u001b[0m\u001b[0;36m50\u001b[0m\u001b[0;34m)\u001b[0m\u001b[0;34m\u001b[0m\u001b[0;34m\u001b[0m\u001b[0m\n\u001b[1;32m      3\u001b[0m \u001b[0mprint\u001b[0m\u001b[0;34m(\u001b[0m\u001b[0;34mf' tuple\\t: {T1}'\u001b[0m\u001b[0;34m)\u001b[0m\u001b[0;34m\u001b[0m\u001b[0;34m\u001b[0m\u001b[0m\n",
            "\u001b[0;31mAttributeError\u001b[0m: 'tuple' object has no attribute 'append'"
          ]
        }
      ]
    },
    {
      "cell_type": "code",
      "source": [
        "#Tidak dapat mengahapus elemen\n",
        "T1 = (1, \"dua\", True, 1+2j)\n",
        "print(f' tuple\\t: {T1}')"
      ],
      "metadata": {
        "colab": {
          "base_uri": "https://localhost:8080/"
        },
        "id": "epRiZ6STue03",
        "outputId": "a8df223c-22c8-4614-b39d-adec0fdf4d11"
      },
      "execution_count": 36,
      "outputs": [
        {
          "output_type": "stream",
          "name": "stdout",
          "text": [
            " tuple\t: (1, 'dua', True, (1+2j))\n"
          ]
        }
      ]
    },
    {
      "cell_type": "code",
      "source": [
        "T1.remove(1)\n",
        "T1.remove(\"dua\")\n",
        "print(f' tuple\\t: {T1}')"
      ],
      "metadata": {
        "colab": {
          "base_uri": "https://localhost:8080/",
          "height": 200
        },
        "id": "k_rTCrFjufW9",
        "outputId": "64c0b0d9-cdf4-4760-a609-5b91c876f46c"
      },
      "execution_count": 37,
      "outputs": [
        {
          "output_type": "error",
          "ename": "AttributeError",
          "evalue": "ignored",
          "traceback": [
            "\u001b[0;31m---------------------------------------------------------------------------\u001b[0m",
            "\u001b[0;31mAttributeError\u001b[0m                            Traceback (most recent call last)",
            "\u001b[0;32m<ipython-input-37-a669a75ff9f0>\u001b[0m in \u001b[0;36m<cell line: 1>\u001b[0;34m()\u001b[0m\n\u001b[0;32m----> 1\u001b[0;31m \u001b[0mT1\u001b[0m\u001b[0;34m.\u001b[0m\u001b[0mremove\u001b[0m\u001b[0;34m(\u001b[0m\u001b[0;36m1\u001b[0m\u001b[0;34m)\u001b[0m\u001b[0;34m\u001b[0m\u001b[0;34m\u001b[0m\u001b[0m\n\u001b[0m\u001b[1;32m      2\u001b[0m \u001b[0mT1\u001b[0m\u001b[0;34m.\u001b[0m\u001b[0mremove\u001b[0m\u001b[0;34m(\u001b[0m\u001b[0;34m\"dua\"\u001b[0m\u001b[0;34m)\u001b[0m\u001b[0;34m\u001b[0m\u001b[0;34m\u001b[0m\u001b[0m\n\u001b[1;32m      3\u001b[0m \u001b[0mprint\u001b[0m\u001b[0;34m(\u001b[0m\u001b[0;34mf' tuple\\t: {T1}'\u001b[0m\u001b[0;34m)\u001b[0m\u001b[0;34m\u001b[0m\u001b[0;34m\u001b[0m\u001b[0m\n",
            "\u001b[0;31mAttributeError\u001b[0m: 'tuple' object has no attribute 'remove'"
          ]
        }
      ]
    },
    {
      "cell_type": "markdown",
      "source": [
        "Menggabungkan tuple"
      ],
      "metadata": {
        "id": "W07VA4XSukvv"
      }
    },
    {
      "cell_type": "code",
      "source": [
        "# Menggabungkan Tuple\n",
        "T3 = T1 + T2\n",
        "T3"
      ],
      "metadata": {
        "colab": {
          "base_uri": "https://localhost:8080/"
        },
        "id": "DB_j4cHRun_D",
        "outputId": "89b02240-0725-45e7-f1da-e1cc71ba2438"
      },
      "execution_count": 38,
      "outputs": [
        {
          "output_type": "execute_result",
          "data": {
            "text/plain": [
              "(1, 'dua', True, (1+2j), 3, 2.4, True, 2.4)"
            ]
          },
          "metadata": {},
          "execution_count": 38
        }
      ]
    },
    {
      "cell_type": "markdown",
      "source": [
        "Latihan"
      ],
      "metadata": {
        "id": "lZX2067suqWl"
      }
    },
    {
      "cell_type": "code",
      "source": [
        "#Buatlah tuplemu sendiri\n",
        "OOz = (\"Huang Renjun\",\"Lee Jeno\",\"Lee Haechan\",\"Na Jaemin\")\n",
        "print(\"ini adalah anggota NCT Dream 00line\", OOz)\n",
        "type(OOz)"
      ],
      "metadata": {
        "colab": {
          "base_uri": "https://localhost:8080/"
        },
        "id": "apVrB3W0utAm",
        "outputId": "f6f6e7f5-90ef-450e-8709-2abe1b568eee"
      },
      "execution_count": 39,
      "outputs": [
        {
          "output_type": "stream",
          "name": "stdout",
          "text": [
            "ini adalah anggota NCT Dream 00line ('Huang Renjun', 'Lee Jeno', 'Lee Haechan', 'Na Jaemin')\n"
          ]
        },
        {
          "output_type": "execute_result",
          "data": {
            "text/plain": [
              "tuple"
            ]
          },
          "metadata": {},
          "execution_count": 39
        }
      ]
    },
    {
      "cell_type": "markdown",
      "source": [
        "Latihan 2"
      ],
      "metadata": {
        "id": "WMKRCrdKutoJ"
      }
    },
    {
      "cell_type": "code",
      "source": [
        "#Buatlah tuple kedua lalu gabungkan 2 tuple yang telah kamu buat\n",
        "KHz = (\"Mark Lee\",\"Zhong Chenle\",\"Park Jisung\")\n",
        "print(\"ini adalah anggota NCT Dream KHz\", KHz)\n",
        "print(\"-\"*20)\n",
        "\n",
        "#Gabungkan 2 tuple\n",
        "NCT_DREAM = OOz + KHz\n",
        "print(NCT_DREAM)"
      ],
      "metadata": {
        "colab": {
          "base_uri": "https://localhost:8080/"
        },
        "id": "baS9IFqQuyra",
        "outputId": "e4afca78-2c35-4d4c-e872-85608efdf796"
      },
      "execution_count": 40,
      "outputs": [
        {
          "output_type": "stream",
          "name": "stdout",
          "text": [
            "ini adalah anggota NCT Dream KHz ('Mark Lee', 'Zhong Chenle', 'Park Jisung')\n",
            "--------------------\n",
            "('Huang Renjun', 'Lee Jeno', 'Lee Haechan', 'Na Jaemin', 'Mark Lee', 'Zhong Chenle', 'Park Jisung')\n"
          ]
        }
      ]
    }
  ]
}