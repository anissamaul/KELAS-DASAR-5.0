{
  "nbformat": 4,
  "nbformat_minor": 0,
  "metadata": {
    "colab": {
      "provenance": []
    },
    "kernelspec": {
      "name": "python3",
      "display_name": "Python 3"
    },
    "language_info": {
      "name": "python"
    }
  },
  "cells": [
    {
      "cell_type": "markdown",
      "metadata": {
        "id": "WM87RARe9et7"
      },
      "source": [
        "###List"
      ]
    },
    {
      "cell_type": "markdown",
      "metadata": {
        "id": "psQZ9g_Z9oss"
      },
      "source": [
        "List adalah jenis kumpulan data terurut (ordered sequence), dan merupakan salah satu variabel yang sering digunakan pada Python. Serupa, namun tak sama dengan array pada bahasa pemrograman lainnya. Bedanya, elemen List pada Python tidak harus memiliki tipe data yang sama. Mendeklarasikan List cukup mudah dengan kurung siku dan elemen yang dipisahkan dengan koma.\n",
        "\n",
        "Setiap data di dalamnya dapat diakses dengan indeks yang dimulai dari 0."
      ]
    },
    {
      "cell_type": "code",
      "metadata": {
        "colab": {
          "base_uri": "https://localhost:8080/"
        },
        "id": "K-SkKTjr-uMg",
        "outputId": "2e7818f9-ce58-4b1b-b4db-a16235b0da23"
      },
      "source": [
        "#Contoh List\n",
        "L1 = [1, 4, 2, 13]\n",
        "print(type(L1))"
      ],
      "execution_count": 3,
      "outputs": [
        {
          "output_type": "stream",
          "name": "stdout",
          "text": [
            "<class 'list'>\n"
          ]
        }
      ]
    },
    {
      "cell_type": "code",
      "metadata": {
        "colab": {
          "base_uri": "https://localhost:8080/"
        },
        "id": "Jn4BWhpN-8O6",
        "outputId": "ceeb8d2d-25a8-4a82-c5bc-630dff473455"
      },
      "source": [
        "L2 = [\"a\",\"Python\",3]\n",
        "\n",
        "print(type(L2))"
      ],
      "execution_count": 4,
      "outputs": [
        {
          "output_type": "stream",
          "name": "stdout",
          "text": [
            "<class 'list'>\n"
          ]
        }
      ]
    },
    {
      "cell_type": "code",
      "metadata": {
        "colab": {
          "base_uri": "https://localhost:8080/"
        },
        "id": "wtPE9MK1BxqZ",
        "outputId": "8d885d05-a8f6-4ee1-a5f3-3f22b3e59ef5"
      },
      "source": [
        "print(L1)\n",
        "print(L2)"
      ],
      "execution_count": 5,
      "outputs": [
        {
          "output_type": "stream",
          "name": "stdout",
          "text": [
            "[1, 4, 2, 13]\n",
            "['a', 'Python', 3]\n"
          ]
        }
      ]
    },
    {
      "cell_type": "markdown",
      "metadata": {
        "id": "mBo4G2ffCEZA"
      },
      "source": [
        "Indeks di Python (List,Tuple) mulai dari **0**"
      ]
    },
    {
      "cell_type": "code",
      "metadata": {
        "colab": {
          "base_uri": "https://localhost:8080/"
        },
        "id": "8bD8VOVRCSd7",
        "outputId": "6e8d4ba4-0a22-40b9-9af7-9801ae3ce6d1"
      },
      "source": [
        "#Sifat-sifat List\n",
        "\n",
        "#Terurut/Ordered\n",
        "print(\"Memanggil List L1 dengan indeks urutan:\", L1[0:3])\n",
        "\n",
        "#Bisa Diganti/Mutable\n",
        "L1[1] = 2\n",
        "print(\"List L1 setelah diganti elemennya:\", L1)\n",
        "\n",
        "L1 = [1, \"dua\", True, 2+3j]\n",
        "\n",
        "#Dapat Diindeks/Slicing\n",
        "print(\"Slicing List L1:\", L1[3])\n",
        "\n",
        "#Dapat Dijinkan Duplikasi\n",
        "L1 = [1, \"dua\", True, 2+3j, 2+3j]\n",
        "print(\"Duplikasi pada List L1:\", L1)\n",
        "\n",
        "#Dapat mengubah data dengan mengganti elemen tertentu\n",
        "L1 = [1, \"dua\", True, 2+3j]\n",
        "L1[2]=3\n",
        "print(\"Data setelah diubah:\", L1)\n",
        "\n",
        "#Dapat menambahkan elemen baru pada data\n",
        "L1 = [1, \"dua\", True, 2+3j]\n",
        "L1.append(20)\n",
        "print(\"Data setelah ditambahkan elemennya:\", L1)\n",
        "\n",
        "#Dapat menghapus elemen pada data (remove() = menghapus berdasarkan nama objek)\n",
        "L1 = [1, \"dua\", True, 2+3j]\n",
        "L1.remove(2+3j)\n",
        "print(\"Data setelah dihapus elemennya:\", L1)"
      ],
      "execution_count": 6,
      "outputs": [
        {
          "output_type": "stream",
          "name": "stdout",
          "text": [
            "Memanggil List L1 dengan indeks urutan: [1, 4, 2]\n",
            "List L1 setelah diganti elemennya: [1, 2, 2, 13]\n",
            "Slicing List L1: (2+3j)\n",
            "Duplikasi pada List L1: [1, 'dua', True, (2+3j), (2+3j)]\n",
            "Data setelah diubah: [1, 'dua', 3, (2+3j)]\n",
            "Data setelah ditambahkan elemennya: [1, 'dua', True, (2+3j), 20]\n",
            "Data setelah dihapus elemennya: [1, 'dua', True]\n"
          ]
        }
      ]
    },
    {
      "cell_type": "code",
      "source": [
        "#menambahkan data menggunakan fungsi insert(menambahkan elemen baru di list pada indeks tertentu)\n",
        "\n",
        "L1 = [1, \"dua\", True, 2+3j]\n",
        "L1.insert(2, 5)\n",
        "print(L1)"
      ],
      "metadata": {
        "colab": {
          "base_uri": "https://localhost:8080/"
        },
        "id": "whAnEAuvect_",
        "outputId": "85f8d62e-4e53-4bdd-946e-ba5070276bd5"
      },
      "execution_count": 7,
      "outputs": [
        {
          "output_type": "stream",
          "name": "stdout",
          "text": [
            "[1, 'dua', 5, True, (2+3j)]\n"
          ]
        }
      ]
    },
    {
      "cell_type": "code",
      "source": [
        "#mengubah elemen dari list menggunakan fungsi pop() (menghapus berdasarkan indeks)\n",
        "L1 = [1, \"dua\", True, 2+3j]\n",
        "L1.pop(2)\n",
        "print(L1)"
      ],
      "metadata": {
        "colab": {
          "base_uri": "https://localhost:8080/"
        },
        "id": "6oGHwoyFe47E",
        "outputId": "2f1b1470-97bd-45aa-e92b-4915a5f1ebc5"
      },
      "execution_count": 8,
      "outputs": [
        {
          "output_type": "stream",
          "name": "stdout",
          "text": [
            "[1, 'dua', (2+3j)]\n"
          ]
        }
      ]
    },
    {
      "cell_type": "code",
      "source": [
        "L1 = [1, \"dua\", True, 2+3j]\n",
        "L1.pop()\n",
        "print(L1)"
      ],
      "metadata": {
        "colab": {
          "base_uri": "https://localhost:8080/"
        },
        "id": "WzViqNfvfWW0",
        "outputId": "434a1dc7-88ad-43e1-ce14-4da4e115ca72"
      },
      "execution_count": 9,
      "outputs": [
        {
          "output_type": "stream",
          "name": "stdout",
          "text": [
            "[1, 'dua', True]\n"
          ]
        }
      ]
    },
    {
      "cell_type": "markdown",
      "metadata": {
        "id": "OhKZ3iumHExf"
      },
      "source": [
        "Latihan 1"
      ]
    },
    {
      "cell_type": "code",
      "source": [
        "#Buatlah List kalian sendiri\n",
        "HotSauce = [\"Hot Sauce\", \"Diggity\", \"Dive Into You\", \"My Youth\", \"Rocket\", \"Countdown 321\", \"ANL\", \"Irreplaceable\", \"Be There For You\", \"Rainbow\"]\n",
        "print(type(HotSauce))"
      ],
      "metadata": {
        "colab": {
          "base_uri": "https://localhost:8080/"
        },
        "id": "dSE3PaL4ct-k",
        "outputId": "891a67c0-aeea-4d22-fb62-e73f5d867049"
      },
      "execution_count": 10,
      "outputs": [
        {
          "output_type": "stream",
          "name": "stdout",
          "text": [
            "<class 'list'>\n"
          ]
        }
      ]
    },
    {
      "cell_type": "code",
      "source": [
        "GlitchMode = [\"Fire Alarm\", \"Glitch Mode\", \"Arcade\", \"Its Yours\", \"Teddy Bear\", \"Replay\", \"Saturday Drip\", \"Better Than Glow\", \"Drive\", \"Never Goodbye\", \"Rewind\"]\n",
        "print(type(GlitchMode))"
      ],
      "metadata": {
        "colab": {
          "base_uri": "https://localhost:8080/"
        },
        "id": "aAICKDHIcyIr",
        "outputId": "888c1500-d387-4dc0-c2b7-a31a6dc9f84e"
      },
      "execution_count": 11,
      "outputs": [
        {
          "output_type": "stream",
          "name": "stdout",
          "text": [
            "<class 'list'>\n"
          ]
        }
      ]
    },
    {
      "cell_type": "code",
      "source": [
        "print(HotSauce)\n",
        "print(GlitchMode)"
      ],
      "metadata": {
        "colab": {
          "base_uri": "https://localhost:8080/"
        },
        "id": "4Sj4dWrSc5Bi",
        "outputId": "b16c0fa5-ea1d-4aae-d310-b0833c4ab49f"
      },
      "execution_count": 12,
      "outputs": [
        {
          "output_type": "stream",
          "name": "stdout",
          "text": [
            "['Hot Sauce', 'Diggity', 'Dive Into You', 'My Youth', 'Rocket', 'Countdown 321', 'ANL', 'Irreplaceable', 'Be There For You', 'Rainbow']\n",
            "['Fire Alarm', 'Glitch Mode', 'Arcade', 'Its Yours', 'Teddy Bear', 'Replay', 'Saturday Drip', 'Better Than Glow', 'Drive', 'Never Goodbye', 'Rewind']\n"
          ]
        }
      ]
    },
    {
      "cell_type": "markdown",
      "source": [
        "Latihan 2"
      ],
      "metadata": {
        "id": "5B9GjN3unVWO"
      }
    },
    {
      "cell_type": "code",
      "source": [
        "#Ganti elemen yang ada pada List yang kalian buat\n",
        "\n",
        "#Terurut/Ordered\n",
        "print(\"Memanggil List Hot Sauce dengan indeks urutan:\",HotSauce[0:9])\n",
        "print(\"Memanggil List Glitch Mode dengan indeks urutan:\",GlitchMode[0:10])\n",
        "print('-'*20)\n",
        "\n",
        "# Bisa Diganti/Mutable\n",
        "HotSauce[0]    = \"Hello Future\"\n",
        "GlitchMode[1]   = \"Beatbox\"\n",
        "print(\"List Hot Sauce setelah diganti elemennya:\",HotSauce)\n",
        "print(\"List Glitch Mode setelah diganti elemennya:\",GlitchMode)\n",
        "print('-'*20)\n",
        "\n",
        "# Dapat diindeks/slicing\n",
        "HotSauce  = [13,\"ANL\",\"Bungee\",45+57j]\n",
        "GlitchMode = [15,\"On The Way\",\"Sorry Heart\",\"Rewind\",51+16j]\n",
        "print(\"Slicing List Hot Sauce:\",HotSauce[1])\n",
        "print(\"Slicing List Glitch Mode:\",GlitchMode[3])\n",
        "print('-'*20)\n",
        "\n",
        "# Dapat Diijinkan Duplikasi\n",
        "HotSauce  = [13,\"ANL\",\"Bungee\",45+57j]\n",
        "GlitchMode = [15,\"On The Way\",\"Sorry Heart\",\"Rewind\",51+16j]\n",
        "print(\"Duplikasi List Hot Sauce:\",HotSauce)\n",
        "print(\"Duplikasi List GlitchMode:\",GlitchMode)\n",
        "\n",
        "#Dapat mengubah data dengan mengganti elemen tertentu\n",
        "HotSauce  = [13,\"ANL\",\"Bungee\",45+57j]\n",
        "GlitchMode = [15,\"On The Way\",\"Sorry Heart\",\"Rewind\",51+16j]\n",
        "HotSauce[2] = \"My Youth\"\n",
        "GlitchMode[1] = \"Replay\"\n",
        "print(\"Data setelah diubah:\", HotSauce)\n",
        "print(\"Data setelah diubah:\", GlitchMode)\n",
        "\n",
        "#Dapat menambahkan elemen baru pada data\n",
        "HotSauce  = [13,\"ANL\",\"Bungee\",45+57j]\n",
        "GlitchMode = [15,\"On The Way\",\"Sorry Heart\",\"Rewind\",51+16j]\n",
        "HotSauce.append(20)\n",
        "GlitchMode.append(20)\n",
        "print(\"Data setelah ditambahkan elemennya:\", HotSauce)\n",
        "print(\"Data setelah ditambahkan elemennya:\", GlitchMode)\n",
        "\n",
        "#Dapat menghapus elemen pada data (remove() = menghapus berdasarkan nama objek)\n",
        "HotSauce  = [13,\"ANL\",\"Bungee\",45+57j]\n",
        "GlitchMode = [15,\"On The Way\",\"Sorry Heart\",\"Rewind\",51+16j]\n",
        "HotSauce.remove(\"Bungee\")\n",
        "GlitchMode.remove(\"Sorry Heart\")\n",
        "print(\"Data setelah dihapus elemennya:\", HotSauce)\n",
        "print(\"Data setelah dihapus elemennya:\", GlitchMode)\n",
        "\n",
        "#Menambahkan data menggunakan fungsi insert(menambahkan elemen baru di list pada indeks tertentu)\n",
        "HotSauce  = [13,\"ANL\",\"Bungee\",45+57j]\n",
        "GlitchMode = [15,\"On The Way\",\"Sorry Heart\",\"Rewind\",51+16j]\n",
        "HotSauce.insert(2, \"Diggty\")\n",
        "GlitchMode = [4, \"Never Goodbye\"]\n",
        "print(HotSauce)\n",
        "print(GlitchMode)\n",
        "\n",
        "#mengubah elemen dari list menggunakan fungsi pop() (menghapus berdasarkan indeks)\n",
        "HotSauce  = [13,\"ANL\",\"Bungee\",45+57j]\n",
        "GlitchMode = [15,\"On The Way\",\"Sorry Heart\",\"Rewind\",51+16j]\n",
        "HotSauce.pop(2)\n",
        "GlitchMode.pop(2)\n",
        "print(HotSauce)\n",
        "print(GlitchMode)"
      ],
      "metadata": {
        "colab": {
          "base_uri": "https://localhost:8080/"
        },
        "id": "vXnp3czYjeRK",
        "outputId": "10f4db84-bca4-4656-b1b4-9abbfacecd65"
      },
      "execution_count": 14,
      "outputs": [
        {
          "output_type": "stream",
          "name": "stdout",
          "text": [
            "Memanggil List Hot Sauce dengan indeks urutan: ['Hot Sauce', 'Diggity', 'Dive Into You', 'My Youth', 'Rocket', 'Countdown 321', 'ANL', 'Irreplaceable', 'Be There For You']\n",
            "Memanggil List Glitch Mode dengan indeks urutan: ['Fire Alarm', 'Glitch Mode', 'Arcade', 'Its Yours', 'Teddy Bear', 'Replay', 'Saturday Drip', 'Better Than Glow', 'Drive', 'Never Goodbye']\n",
            "--------------------\n",
            "List Hot Sauce setelah diganti elemennya: ['Hello Future', 'Diggity', 'Dive Into You', 'My Youth', 'Rocket', 'Countdown 321', 'ANL', 'Irreplaceable', 'Be There For You', 'Rainbow']\n",
            "List Glitch Mode setelah diganti elemennya: ['Fire Alarm', 'Beatbox', 'Arcade', 'Its Yours', 'Teddy Bear', 'Replay', 'Saturday Drip', 'Better Than Glow', 'Drive', 'Never Goodbye', 'Rewind']\n",
            "--------------------\n",
            "Slicing List Hot Sauce: ANL\n",
            "Slicing List Glitch Mode: Rewind\n",
            "--------------------\n",
            "Duplikasi List Hot Sauce: [13, 'ANL', 'Bungee', (45+57j)]\n",
            "Duplikasi List GlitchMode: [15, 'On The Way', 'Sorry Heart', 'Rewind', (51+16j)]\n",
            "Data setelah diubah: [13, 'ANL', 'My Youth', (45+57j)]\n",
            "Data setelah diubah: [15, 'Replay', 'Sorry Heart', 'Rewind', (51+16j)]\n",
            "Data setelah ditambahkan elemennya: [13, 'ANL', 'Bungee', (45+57j), 20]\n",
            "Data setelah ditambahkan elemennya: [15, 'On The Way', 'Sorry Heart', 'Rewind', (51+16j), 20]\n",
            "Data setelah dihapus elemennya: [13, 'ANL', (45+57j)]\n",
            "Data setelah dihapus elemennya: [15, 'On The Way', 'Rewind', (51+16j)]\n",
            "[13, 'ANL', 'Diggty', 'Bungee', (45+57j)]\n",
            "[4, 'Never Goodbye']\n",
            "[13, 'ANL', (45+57j)]\n",
            "[15, 'On The Way', 'Rewind', (51+16j)]\n"
          ]
        }
      ]
    }
  ]
}