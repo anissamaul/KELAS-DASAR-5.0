{
  "nbformat": 4,
  "nbformat_minor": 0,
  "metadata": {
    "colab": {
      "provenance": []
    },
    "kernelspec": {
      "name": "python3",
      "display_name": "Python 3"
    },
    "language_info": {
      "name": "python"
    }
  },
  "cells": [
    {
      "cell_type": "markdown",
      "metadata": {
        "id": "79txd1DTGoUr"
      },
      "source": [
        "#Operator"
      ]
    },
    {
      "cell_type": "markdown",
      "metadata": {
        "id": "TWgEfCK0HOnS"
      },
      "source": [
        "Operator = Simbol-simbol yang dapat digunakan untuk mengubah nilai dari satu variabel dengan melibatkan satu atau lebih variabel dan literal.\n",
        "tipe-tiep operator\n",
        "1.   Operator Aritmatika\n",
        "2.   Operator Assignment\n",
        "3.   Operator Pembanding\n",
        "4.   Operator Logika\n",
        "5.   Operator Membership\n",
        "\n",
        "\n",
        "\n",
        "\n",
        "\n"
      ]
    },
    {
      "cell_type": "markdown",
      "metadata": {
        "id": "12LbyW1lIDjL"
      },
      "source": [
        "#Operator Aritmatika"
      ]
    },
    {
      "cell_type": "markdown",
      "metadata": {
        "id": "wLRyqOizIHzJ"
      },
      "source": [
        "Operator Aritmatika digunakan untuk melakukan operasi matematika yang umum.\n",
        "\n",
        "macam-macam operator aritmatika:\n",
        "\n",
        "\n"
      ]
    },
    {
      "cell_type": "markdown",
      "metadata": {
        "id": "XSQv1bOEhWKT"
      },
      "source": [
        "\n",
        "\n",
        "```\n",
        "+  : Penjumlahan\n",
        "-  : Pengurangan\n",
        "*  : Perkalian\n",
        "/  : Pembagian\n",
        "%  : Modulus\n",
        "** : Perpangkatan\n",
        "// : Pembagian dengan hasil pembulatan flooring\n",
        "```\n",
        "\n"
      ]
    },
    {
      "cell_type": "code",
      "metadata": {
        "id": "aPr1cdoyMp00",
        "colab": {
          "base_uri": "https://localhost:8080/"
        },
        "outputId": "e02bf038-1c34-4e25-e2c0-da7e53097e01"
      },
      "source": [
        "# Contoh penggunaan operator aritmatika\n",
        "\n",
        "#Penjumlahan\n",
        "print('Penjumlahan')\n",
        "print(2+2)\n",
        "#Pengurangan\n",
        "print('-'*20)\n",
        "print('Pengurangan')\n",
        "print(2-3)\n",
        "#Perkalian\n",
        "print('-'*20)\n",
        "print('Perkalian')\n",
        "print(2*3)\n",
        "#Pembagian\n",
        "print('-'*20)\n",
        "print('Pembagian')\n",
        "print(2/3)\n",
        "#Modulus\n",
        "print('-'*20)\n",
        "print('Modulus')\n",
        "print(2%3)\n",
        "#Perpangkatan\n",
        "print('_'*20)\n",
        "print('Perpangkatan')\n",
        "print(2**3)\n",
        "#Pembagian Pembulatan Floring\n",
        "print('-'*20)\n",
        "print('Pembagian Pembulatan Floring')\n",
        "print(3//2)\n"
      ],
      "execution_count": 1,
      "outputs": [
        {
          "output_type": "stream",
          "name": "stdout",
          "text": [
            "Penjumlahan\n",
            "4\n",
            "--------------------\n",
            "Pengurangan\n",
            "-1\n",
            "--------------------\n",
            "Perkalian\n",
            "6\n",
            "--------------------\n",
            "Pembagian\n",
            "0.6666666666666666\n",
            "--------------------\n",
            "Modulus\n",
            "2\n",
            "____________________\n",
            "Perpangkatan\n",
            "8\n",
            "--------------------\n",
            "Pembagian Pembulatan Floring\n",
            "1\n"
          ]
        }
      ]
    },
    {
      "cell_type": "markdown",
      "metadata": {
        "id": "CES6kYzfTuj6"
      },
      "source": [
        "Latihan Operator 1"
      ]
    },
    {
      "cell_type": "code",
      "metadata": {
        "id": "N6nqolrfTzb3",
        "colab": {
          "base_uri": "https://localhost:8080/"
        },
        "outputId": "d9a69516-edd8-487b-88e7-dcf77e726aa9"
      },
      "source": [
        "#Penjumlahan\n",
        "print('Penjumlahan')\n",
        "print(4+9)\n",
        "#Pengurangan\n",
        "print('-'*20)\n",
        "print('Pengurangan')\n",
        "print(9-7)\n",
        "#Perkalian\n",
        "print('-'*20)\n",
        "print('Perkalian')\n",
        "print(4*4)\n",
        "#Pembagian\n",
        "print('-'*20)\n",
        "print('Pembagian')\n",
        "print(18/9)\n",
        "#Modulus\n",
        "print('-'*20)\n",
        "print('Modulus')\n",
        "print(3%7)\n",
        "#Perpangkatan\n",
        "print('_'*20)\n",
        "print('Perpangkatan')\n",
        "print(9**3)\n",
        "#Pembagian Pembulatan Floring\n",
        "print('-'*20)\n",
        "print('Pembagian Pembulatan Floring')\n",
        "print(6//9)\n"
      ],
      "execution_count": 2,
      "outputs": [
        {
          "output_type": "stream",
          "name": "stdout",
          "text": [
            "Penjumlahan\n",
            "13\n",
            "--------------------\n",
            "Pengurangan\n",
            "2\n",
            "--------------------\n",
            "Perkalian\n",
            "16\n",
            "--------------------\n",
            "Pembagian\n",
            "2.0\n",
            "--------------------\n",
            "Modulus\n",
            "3\n",
            "____________________\n",
            "Perpangkatan\n",
            "729\n",
            "--------------------\n",
            "Pembagian Pembulatan Floring\n",
            "0\n"
          ]
        }
      ]
    },
    {
      "cell_type": "markdown",
      "metadata": {
        "id": "tYoJqoi2UcMX"
      },
      "source": [
        "#Operator Assigment"
      ]
    },
    {
      "cell_type": "markdown",
      "metadata": {
        "id": "-HByPkQcXJAt"
      },
      "source": [
        "Operator `assigment` digunakan untuk menyimpan nilai menjadi suatu variabel."
      ]
    },
    {
      "cell_type": "markdown",
      "metadata": {
        "id": "dGhDPgFuhz17"
      },
      "source": [
        "\n",
        "\n",
        "```\n",
        "=   : contohnya x = 5 -> x = 5\n",
        "+=  : contohnya x = x + 5 -> x += 5\n",
        "-=  : contohnya x = x - 5 -> x -= 5\n",
        "*=  : contohnya x = x * 5 -> x *= 5\n",
        "/=  : contohnya x = x / 5 -> x /= 5\n",
        "%=  : contohnya x = x % 5 -> x %= 5\n",
        "//= : contohnya x = x // 5 -> x //= 5\n",
        "**= : contohnya x = x ** 5 -> x **= 5\n",
        "```\n",
        "\n"
      ]
    },
    {
      "cell_type": "code",
      "metadata": {
        "id": "d-c9opcPXj1S",
        "colab": {
          "base_uri": "https://localhost:8080/"
        },
        "outputId": "451ad7f3-8134-4499-aa33-c5219c1d720c"
      },
      "source": [
        "# Contoh penggunaan operator Assigment\n",
        "\n",
        "# Penjumlahan\n",
        "print('Penjumlahan')\n",
        "x=5\n",
        "x=x+5\n",
        "print(x)\n",
        "x=5\n",
        "x+=3\n",
        "print(x)\n",
        "print('-'*20)\n",
        "\n",
        "#Pengurangan\n",
        "print('Pengurangan')\n",
        "x=5\n",
        "x=x-5\n",
        "print(x)\n",
        "x=5\n",
        "x-=3\n",
        "print(x)\n",
        "print('-'*20)\n",
        "\n",
        "#Perkalian\n",
        "print('Perkalian')\n",
        "x=5\n",
        "x=x*5\n",
        "print(x)\n",
        "x=5\n",
        "x*=3\n",
        "print(x)\n",
        "print('-'*20)\n",
        "\n",
        "#Pembagian\n",
        "print('Pembagian')\n",
        "x=5\n",
        "x=x/5\n",
        "print(x)\n",
        "x=5\n",
        "x/=3\n",
        "print(x)\n",
        "print('-'*20)\n",
        "\n",
        "#Modulus\n",
        "print('Modulus')\n",
        "x=5\n",
        "x=x%5\n",
        "print(x)\n",
        "x=5\n",
        "x%=3\n",
        "print(x)\n",
        "print('-'*20)\n",
        "\n",
        "#Pembagian Floring\n",
        "print('Pembagian Floring')\n",
        "x=5\n",
        "x=x//5\n",
        "print(x)\n",
        "x=5\n",
        "x//=3\n",
        "print(x)\n",
        "print('-'*20)\n",
        "\n",
        "#Perpangkatan\n",
        "print('Perpangkatan')\n",
        "x=5\n",
        "x=x**5\n",
        "print(x)\n",
        "x=5\n",
        "x**=3\n",
        "print(x)\n",
        "print('-'*20)"
      ],
      "execution_count": 4,
      "outputs": [
        {
          "output_type": "stream",
          "name": "stdout",
          "text": [
            "Penjumlahan\n",
            "10\n",
            "10\n",
            "--------------------\n",
            "Pengurangan\n",
            "0\n",
            "2\n",
            "--------------------\n",
            "Perkalian\n",
            "25\n",
            "15\n",
            "--------------------\n",
            "Pembagian\n",
            "1.0\n",
            "1.6666666666666667\n",
            "--------------------\n",
            "Modulus\n",
            "0\n",
            "2\n",
            "--------------------\n",
            "Pembagian Floring\n",
            "1\n",
            "1\n",
            "--------------------\n",
            "Perpangkatan\n",
            "3125\n",
            "125\n",
            "--------------------\n"
          ]
        }
      ]
    },
    {
      "cell_type": "markdown",
      "metadata": {
        "id": "p3oz9nI2bVdd"
      },
      "source": [
        "Latihan Operator 2"
      ]
    },
    {
      "cell_type": "code",
      "metadata": {
        "id": "iGPpEXzBbaNh",
        "colab": {
          "base_uri": "https://localhost:8080/"
        },
        "outputId": "f1f0dc57-9bf5-48b8-ad5c-8f5dbe2e66fa"
      },
      "source": [
        "# Penjumlahan\n",
        "print('Penjumlahan')\n",
        "x=6\n",
        "x=x+6\n",
        "print(x)\n",
        "x=6\n",
        "x+=4\n",
        "print(x)\n",
        "print('-'*20)\n",
        "\n",
        "#Pengurangan\n",
        "print('Pengurangan')\n",
        "x=3\n",
        "x=x-3\n",
        "print(x)\n",
        "x=3\n",
        "x-=9\n",
        "print(x)\n",
        "print('-'*20)\n",
        "\n",
        "#Perkalian\n",
        "print('Perkalian')\n",
        "x=5\n",
        "x=x*5\n",
        "print(x)\n",
        "x=5\n",
        "x*=4\n",
        "print(x)\n",
        "print('-'*20)\n",
        "\n",
        "#Pembagian\n",
        "print('Pembagian')\n",
        "x=8\n",
        "x=x/8\n",
        "print(x)\n",
        "x=8\n",
        "x/=4\n",
        "print(x)\n",
        "print('-'*20)\n",
        "\n",
        "#Modulus\n",
        "print('Modulus')\n",
        "x=6\n",
        "x=x%6\n",
        "print(x)\n",
        "x=6\n",
        "x%=2\n",
        "print(x)\n",
        "print('-'*20)\n",
        "\n",
        "#Pembagian Floring\n",
        "print('Pembagian Floring')\n",
        "x=4\n",
        "x=x//4\n",
        "print(x)\n",
        "x=4\n",
        "x//=4\n",
        "print(x)\n",
        "print('-'*20)\n",
        "\n",
        "#Perpangkatan\n",
        "print('Perpangkatan')\n",
        "x=8\n",
        "x=x**8\n",
        "print(x)\n",
        "x=8\n",
        "x**=2\n",
        "print(x)\n",
        "print('-'*20)"
      ],
      "execution_count": 5,
      "outputs": [
        {
          "output_type": "stream",
          "name": "stdout",
          "text": [
            "Penjumlahan\n",
            "12\n",
            "10\n",
            "--------------------\n",
            "Pengurangan\n",
            "0\n",
            "-6\n",
            "--------------------\n",
            "Perkalian\n",
            "25\n",
            "20\n",
            "--------------------\n",
            "Pembagian\n",
            "1.0\n",
            "2.0\n",
            "--------------------\n",
            "Modulus\n",
            "0\n",
            "0\n",
            "--------------------\n",
            "Pembagian Floring\n",
            "1\n",
            "1\n",
            "--------------------\n",
            "Perpangkatan\n",
            "16777216\n",
            "64\n",
            "--------------------\n"
          ]
        }
      ]
    },
    {
      "cell_type": "markdown",
      "metadata": {
        "id": "U2nPTxWgcAaU"
      },
      "source": [
        "#Operator Pembanding"
      ]
    },
    {
      "cell_type": "markdown",
      "metadata": {
        "id": "TOM80y6ScFFM"
      },
      "source": [
        "Operator pembanding digunakan untuk membandingkan 2 nilai atau variabel.\n",
        "\n",
        "macam-macam operator pembanding :"
      ]
    },
    {
      "cell_type": "markdown",
      "metadata": {
        "id": "bEJT3v8NjZwV"
      },
      "source": [
        "\n",
        "\n",
        "```\n",
        "== -> samadengan\n",
        "!= -> tidak samadengan\n",
        ">  -> lebih dari\n",
        "<  -> kurang dari\n",
        ">= -> lebih dari dan samadengan\n",
        "<= -> kurang dari dan samadengan\n",
        "```\n",
        "\n"
      ]
    },
    {
      "cell_type": "code",
      "metadata": {
        "id": "CXwPOk6ccXvQ",
        "colab": {
          "base_uri": "https://localhost:8080/"
        },
        "outputId": "dad5c3f6-ae6b-420e-9d96-d2381a6716cb"
      },
      "source": [
        "# Contoh Penggunaan operator pembanding\n",
        "\n",
        "print(2==2)\n",
        "print(2!=2)\n",
        "print(2>2)\n",
        "print(2<2)\n",
        "print(2>=2)\n",
        "print(2<=2)"
      ],
      "execution_count": 6,
      "outputs": [
        {
          "output_type": "stream",
          "name": "stdout",
          "text": [
            "True\n",
            "False\n",
            "False\n",
            "False\n",
            "True\n",
            "True\n"
          ]
        }
      ]
    },
    {
      "cell_type": "markdown",
      "metadata": {
        "id": "3tufyeNMc3bL"
      },
      "source": [
        "Latihan Operator 3"
      ]
    },
    {
      "cell_type": "code",
      "metadata": {
        "id": "aWB9nROic6qi",
        "colab": {
          "base_uri": "https://localhost:8080/"
        },
        "outputId": "ec59f537-64e8-4c5d-f3ab-7e05d91472ff"
      },
      "source": [
        "print(6==6)\n",
        "print(4!=7)\n",
        "print(7>9)\n",
        "print(5<8)\n",
        "print(10>=7)\n",
        "print(2<=4)"
      ],
      "execution_count": 7,
      "outputs": [
        {
          "output_type": "stream",
          "name": "stdout",
          "text": [
            "True\n",
            "True\n",
            "False\n",
            "True\n",
            "True\n",
            "True\n"
          ]
        }
      ]
    },
    {
      "cell_type": "markdown",
      "metadata": {
        "id": "MLkDIIDBdTEF"
      },
      "source": [
        "#Operator Logika"
      ]
    },
    {
      "cell_type": "markdown",
      "metadata": {
        "id": "sJLcgPOKec76"
      },
      "source": [
        "Operator logiak digunakan untuk mengkombinasikan statment-statment kondisional.\n",
        "\n",
        "macam-macam operator logika:"
      ]
    },
    {
      "cell_type": "markdown",
      "metadata": {
        "id": "vRy8C00djydr"
      },
      "source": [
        "\n",
        "\n",
        "```\n",
        "and -> kondisi menjadi benar apabila semua statementnya benar\n",
        "or -> kondisi menjadi benar apabila salah satu statementnya ada yang benar\n",
        "not -> membalik hasil dari benar ke salah dan salah ke benar\n",
        "```\n",
        "\n"
      ]
    },
    {
      "cell_type": "code",
      "source": [
        "# Contoh penggunaan operator logika\n",
        "\n",
        "print(True and False)\n",
        "print(False or False)\n",
        "print(not False and True)"
      ],
      "metadata": {
        "id": "kelifIrq_wK2",
        "outputId": "3ce65102-01ce-439c-d8a1-9b7ff282f5ba",
        "colab": {
          "base_uri": "https://localhost:8080/"
        }
      },
      "execution_count": 9,
      "outputs": [
        {
          "output_type": "stream",
          "name": "stdout",
          "text": [
            "False\n",
            "False\n",
            "True\n"
          ]
        }
      ]
    },
    {
      "cell_type": "markdown",
      "metadata": {
        "id": "vWWozfi-fI3Y"
      },
      "source": [
        "Latihan Operator 4"
      ]
    },
    {
      "cell_type": "code",
      "metadata": {
        "id": "pRfON8FEfMOt",
        "colab": {
          "base_uri": "https://localhost:8080/"
        },
        "outputId": "1705ea40-209c-4653-fd74-3a4535b57d6a"
      },
      "source": [
        "print(False and False)\n",
        "print(False or True)\n",
        "print(not True and True)"
      ],
      "execution_count": 10,
      "outputs": [
        {
          "output_type": "stream",
          "name": "stdout",
          "text": [
            "False\n",
            "True\n",
            "False\n"
          ]
        }
      ]
    },
    {
      "cell_type": "markdown",
      "metadata": {
        "id": "IT2YOZZFfMjp"
      },
      "source": [
        "#Operator Keanggotaan"
      ]
    },
    {
      "cell_type": "markdown",
      "metadata": {
        "id": "CHiiPfw7fShB"
      },
      "source": [
        "Operator keanggotaan digunakan untuk menguji apakah urutan disajikan dalam suatau objel.\n",
        "\n",
        "macam-macam operator keanggotaan:"
      ]
    },
    {
      "cell_type": "markdown",
      "metadata": {
        "id": "xJ7_zzeffsfu"
      },
      "source": [
        "\n",
        "\n",
        "```\n",
        "in     -> return True ketika nilai tertentu dalam sebuah urutan ada\n",
        "not in -> return True ketika nilai tertentu dalam sebuah urutan tidak ada\n",
        "```\n",
        "\n"
      ]
    },
    {
      "cell_type": "code",
      "metadata": {
        "id": "sL1VaVZigJpY",
        "colab": {
          "base_uri": "https://localhost:8080/"
        },
        "outputId": "7c166ffd-745b-44e9-c86b-35ff04b472cd"
      },
      "source": [
        "# Contoh penggunaan operator keanggotaan\n",
        "a=(1,2,3,4,5,6)\n",
        "b=2\n",
        "\n",
        "print(b in a)\n",
        "\n",
        "print('-'*20)\n",
        "a=(1,2,3,4,5,6)\n",
        "b=7\n",
        "print(b not in a)"
      ],
      "execution_count": 11,
      "outputs": [
        {
          "output_type": "stream",
          "name": "stdout",
          "text": [
            "True\n",
            "--------------------\n",
            "True\n"
          ]
        }
      ]
    },
    {
      "cell_type": "markdown",
      "metadata": {
        "id": "VsgX4kkSg0_9"
      },
      "source": [
        "Latihan Operator 5"
      ]
    },
    {
      "cell_type": "code",
      "metadata": {
        "id": "lAeylmrIg4mF",
        "colab": {
          "base_uri": "https://localhost:8080/"
        },
        "outputId": "1a79bb67-ea45-4d1c-966b-9837490172e2"
      },
      "source": [
        "a=(2,3,5,7)\n",
        "b=11\n",
        "\n",
        "print(b in a)\n",
        "\n",
        "print('-'*20)\n",
        "a=(4,8,12,16,20)\n",
        "b=7\n",
        "print(b not in a)"
      ],
      "execution_count": 12,
      "outputs": [
        {
          "output_type": "stream",
          "name": "stdout",
          "text": [
            "False\n",
            "--------------------\n",
            "True\n"
          ]
        }
      ]
    },
    {
      "cell_type": "markdown",
      "source": [
        "#Variabel & Tipe Data"
      ],
      "metadata": {
        "id": "SKzl8rk39Shc"
      }
    },
    {
      "cell_type": "markdown",
      "source": [
        "###Variabel"
      ],
      "metadata": {
        "id": "xVKQsyaD9WeF"
      }
    },
    {
      "cell_type": "markdown",
      "source": [
        "**Variabel** : Lokasi penyimpanan yang dapat digunakan untuk menampung sebuah data atau informasi.\n",
        "\n",
        "Syarat-syarat penamaan variabel\n",
        "1.   Karakter-karakter yang digunakan untuk penamaan variabel adalah alphabet, angka, dan underscore.\n",
        "2.   Karakter pertama variabel harus berupa huruf atau garis bawah/underscore, dan tidak bisa berupa angka.\n",
        "1.   Nama sebuah variabel tidak bisa menggunakan keyword atau reserved words dari bahasa python seperti for, if, dan lainnya.\n",
        "2.   Karakter pada nama variabel bersifat sensitif (case-sensitif)."
      ],
      "metadata": {
        "id": "vp1ZpTMp9XbD"
      }
    },
    {
      "cell_type": "code",
      "source": [
        "# membuat variabel\n",
        "kalimat = 'ini adalah variabel'\n",
        "bilangan1 = 4\n",
        "bilangan2 = 2.5\n",
        "bilangan3 = True\n",
        "bilangan4 = 1j + 4"
      ],
      "metadata": {
        "id": "7crtPBqD9eLG"
      },
      "execution_count": 13,
      "outputs": []
    },
    {
      "cell_type": "code",
      "source": [
        "# menampilkan variabel\n",
        "print(kalimat)\n",
        "print(bilangan1)\n",
        "print(bilangan2)\n",
        "print(bilangan3)\n",
        "print(bilangan4)"
      ],
      "metadata": {
        "colab": {
          "base_uri": "https://localhost:8080/"
        },
        "id": "lQALjXlT9fW6",
        "outputId": "20c848ba-6944-4e2a-b285-c5fecbfa4d57"
      },
      "execution_count": 14,
      "outputs": [
        {
          "output_type": "stream",
          "name": "stdout",
          "text": [
            "ini adalah variabel\n",
            "4\n",
            "2.5\n",
            "True\n",
            "(4+1j)\n"
          ]
        }
      ]
    },
    {
      "cell_type": "markdown",
      "source": [
        "Latihan 1"
      ],
      "metadata": {
        "id": "JABxTUXZ9bbv"
      }
    },
    {
      "cell_type": "code",
      "source": [
        "# membuat variabel\n",
        "j = 'life goes on'\n",
        "j1 = 7\n",
        "j2 = 1.2\n",
        "j3 = False\n",
        "j4 = 23j + 7"
      ],
      "metadata": {
        "id": "y-1QKAeY9llS"
      },
      "execution_count": 15,
      "outputs": []
    },
    {
      "cell_type": "code",
      "source": [
        "# menampilkan variabel\n",
        "print(j)\n",
        "print(j1)\n",
        "print(j2)\n",
        "print(j3)\n",
        "print(j4)"
      ],
      "metadata": {
        "colab": {
          "base_uri": "https://localhost:8080/"
        },
        "id": "faOLn96n9rfa",
        "outputId": "2bb5b49d-309f-4c99-bf29-7bc2e5278d23"
      },
      "execution_count": 16,
      "outputs": [
        {
          "output_type": "stream",
          "name": "stdout",
          "text": [
            "life goes on\n",
            "7\n",
            "1.2\n",
            "False\n",
            "(7+23j)\n"
          ]
        }
      ]
    },
    {
      "cell_type": "markdown",
      "source": [
        "###Tipe Data"
      ],
      "metadata": {
        "id": "P9xzeoOI91pY"
      }
    },
    {
      "cell_type": "markdown",
      "source": [
        "5 tipe data yaitu\n",
        "1.   Integer atau bilangan bulat\n",
        "1.   Float atau bilangan desimal\n",
        "1.   String atau kalimat\n",
        "2.   Boolean yang terdiri dari True dan False\n",
        "2.   Complex yang merupakan bilangan kompleks"
      ],
      "metadata": {
        "id": "SWVmzEE696uF"
      }
    },
    {
      "cell_type": "code",
      "source": [
        "#menampilakan tipe data\n",
        "print(type(kalimat))\n",
        "print(type(bilangan1))\n",
        "print(type(bilangan2))\n",
        "print(type(bilangan3))\n",
        "print(type(bilangan4))"
      ],
      "metadata": {
        "colab": {
          "base_uri": "https://localhost:8080/"
        },
        "id": "TdDMl2kG99y1",
        "outputId": "caf9f8ba-6d92-4f07-cb62-b9977b86b5b4"
      },
      "execution_count": 17,
      "outputs": [
        {
          "output_type": "stream",
          "name": "stdout",
          "text": [
            "<class 'str'>\n",
            "<class 'int'>\n",
            "<class 'float'>\n",
            "<class 'bool'>\n",
            "<class 'complex'>\n"
          ]
        }
      ]
    },
    {
      "cell_type": "markdown",
      "source": [
        "Latihan 2"
      ],
      "metadata": {
        "id": "82GdYoPB-EEL"
      }
    },
    {
      "cell_type": "code",
      "source": [
        "#menampilakan tipe data\n",
        "print(type(j))\n",
        "print(type(j1))\n",
        "print(type(j2))\n",
        "print(type(j3))\n",
        "print(type(j4))"
      ],
      "metadata": {
        "colab": {
          "base_uri": "https://localhost:8080/"
        },
        "id": "99slx0kU-E0C",
        "outputId": "d5cca40b-0d70-402a-f019-0e8c3b03d486"
      },
      "execution_count": 18,
      "outputs": [
        {
          "output_type": "stream",
          "name": "stdout",
          "text": [
            "<class 'str'>\n",
            "<class 'int'>\n",
            "<class 'float'>\n",
            "<class 'bool'>\n",
            "<class 'complex'>\n"
          ]
        }
      ]
    },
    {
      "cell_type": "markdown",
      "source": [
        "###Konversi Tipe Data"
      ],
      "metadata": {
        "id": "nUT-yr4c-Jpj"
      }
    },
    {
      "cell_type": "markdown",
      "source": [
        "Syntax Konversi tipe data\n",
        "1.   Integer = int()\n",
        "2.   Float = float()\n",
        "1.   String = str()\n",
        "1.   Boolean = bool()\n",
        "2.   Complex = Complex()"
      ],
      "metadata": {
        "id": "hwEjJeCK-OEo"
      }
    },
    {
      "cell_type": "code",
      "source": [
        "# konversi tipe data integer\n",
        "print(int(bilangan2))\n",
        "print(int(bilangan3))"
      ],
      "metadata": {
        "colab": {
          "base_uri": "https://localhost:8080/"
        },
        "id": "9kd6Kwqz-KfI",
        "outputId": "12f92113-f7e1-42c9-cbe0-d3784f7e7d0a"
      },
      "execution_count": 19,
      "outputs": [
        {
          "output_type": "stream",
          "name": "stdout",
          "text": [
            "2\n",
            "1\n"
          ]
        }
      ]
    },
    {
      "cell_type": "code",
      "source": [
        "# koversi tipe data float\n",
        "print(float(bilangan1))\n",
        "print(float(bilangan3))"
      ],
      "metadata": {
        "colab": {
          "base_uri": "https://localhost:8080/"
        },
        "id": "jL95JQg5-RN6",
        "outputId": "cd1652b8-c212-4544-9221-d639aed91ba1"
      },
      "execution_count": 20,
      "outputs": [
        {
          "output_type": "stream",
          "name": "stdout",
          "text": [
            "4.0\n",
            "1.0\n"
          ]
        }
      ]
    },
    {
      "cell_type": "code",
      "source": [
        "# konversi tipe data string\n",
        "print(str(bilangan1))\n",
        "print(str(bilangan2))\n",
        "print(str(bilangan3))"
      ],
      "metadata": {
        "colab": {
          "base_uri": "https://localhost:8080/"
        },
        "id": "ORa0lc_J-U82",
        "outputId": "d7b5e9e5-f134-4aaa-b881-dde629c97d39"
      },
      "execution_count": 21,
      "outputs": [
        {
          "output_type": "stream",
          "name": "stdout",
          "text": [
            "4\n",
            "2.5\n",
            "True\n"
          ]
        }
      ]
    },
    {
      "cell_type": "code",
      "source": [
        "# koversi tipe data bool\n",
        "print(bool(bilangan1))\n",
        "print(bool(bilangan2))"
      ],
      "metadata": {
        "colab": {
          "base_uri": "https://localhost:8080/"
        },
        "id": "yOTO89Jr-Vg9",
        "outputId": "5159c20e-2d4c-4bd1-e534-931a76010b70"
      },
      "execution_count": 22,
      "outputs": [
        {
          "output_type": "stream",
          "name": "stdout",
          "text": [
            "True\n",
            "True\n"
          ]
        }
      ]
    },
    {
      "cell_type": "code",
      "source": [
        "# konversi tipe data complex\n",
        "print(complex(bilangan1))\n",
        "print(complex(bilangan2))\n",
        "print(complex(bilangan3))"
      ],
      "metadata": {
        "colab": {
          "base_uri": "https://localhost:8080/"
        },
        "id": "urb08wXa-Zeg",
        "outputId": "a325c6cc-c59d-4e30-d6f3-9f2f6562d2c1"
      },
      "execution_count": 23,
      "outputs": [
        {
          "output_type": "stream",
          "name": "stdout",
          "text": [
            "(4+0j)\n",
            "(2.5+0j)\n",
            "(1+0j)\n"
          ]
        }
      ]
    },
    {
      "cell_type": "markdown",
      "source": [
        "Latihan 3"
      ],
      "metadata": {
        "id": "Hs14HcWC-b3p"
      }
    },
    {
      "cell_type": "code",
      "source": [
        "# konversi tipe data integer\n",
        "print(int(j1))\n",
        "print(int(j2))\n",
        "print(int(j3))"
      ],
      "metadata": {
        "colab": {
          "base_uri": "https://localhost:8080/"
        },
        "id": "2GtTpAVC-eks",
        "outputId": "b21295c0-1de6-481b-9fa2-0871be82d067"
      },
      "execution_count": 24,
      "outputs": [
        {
          "output_type": "stream",
          "name": "stdout",
          "text": [
            "7\n",
            "1\n",
            "0\n"
          ]
        }
      ]
    },
    {
      "cell_type": "code",
      "source": [
        "# koversi tipe data float\n",
        "print(float(j2))\n",
        "print(float(j3))"
      ],
      "metadata": {
        "colab": {
          "base_uri": "https://localhost:8080/"
        },
        "id": "KUp-23_W-iO3",
        "outputId": "0ad86495-2687-4684-89ea-f57bd451897e"
      },
      "execution_count": 25,
      "outputs": [
        {
          "output_type": "stream",
          "name": "stdout",
          "text": [
            "1.2\n",
            "0.0\n"
          ]
        }
      ]
    },
    {
      "cell_type": "code",
      "source": [
        "# konversi tipe data string\n",
        "print(str(j))\n",
        "print(str(j2))\n",
        "print(str(j3))"
      ],
      "metadata": {
        "colab": {
          "base_uri": "https://localhost:8080/"
        },
        "id": "WTi9CpOi-lbn",
        "outputId": "44c096a1-5521-42bc-c86f-36382061c670"
      },
      "execution_count": 26,
      "outputs": [
        {
          "output_type": "stream",
          "name": "stdout",
          "text": [
            "life goes on\n",
            "1.2\n",
            "False\n"
          ]
        }
      ]
    },
    {
      "cell_type": "code",
      "source": [
        "# koversi tipe data bool\n",
        "print(bool(j2))\n",
        "print(bool(j3))\n",
        "print(bool(j4))"
      ],
      "metadata": {
        "colab": {
          "base_uri": "https://localhost:8080/"
        },
        "id": "BIIRZWq0-n7Q",
        "outputId": "d99553a6-f1b8-431d-f9db-7a43caf23d55"
      },
      "execution_count": 27,
      "outputs": [
        {
          "output_type": "stream",
          "name": "stdout",
          "text": [
            "True\n",
            "False\n",
            "True\n"
          ]
        }
      ]
    },
    {
      "cell_type": "code",
      "source": [
        "# konversi tipe data complex\n",
        "print(complex(j1))\n",
        "print(complex(j2))\n",
        "print(complex(j4))"
      ],
      "metadata": {
        "colab": {
          "base_uri": "https://localhost:8080/"
        },
        "id": "FR7gZvIK-qC1",
        "outputId": "93822358-50c7-44ea-ea5f-68cc49bbfa97"
      },
      "execution_count": 28,
      "outputs": [
        {
          "output_type": "stream",
          "name": "stdout",
          "text": [
            "(7+0j)\n",
            "(1.2+0j)\n",
            "(7+23j)\n"
          ]
        }
      ]
    }
  ]
}